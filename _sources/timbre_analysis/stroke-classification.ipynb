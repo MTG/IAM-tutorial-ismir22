{
 "cells": [
  {
   "cell_type": "markdown",
   "metadata": {},
   "source": [
    "(stroke-classification)=\n",
    "# Stroke classification\n",
    "## Mridangam\n",
    "\n",
    "{cite}`mridangam_stroke, anantapadmanabhan_mridangam_2013`"
   ]
  },
  {
   "cell_type": "code",
   "execution_count": null,
   "metadata": {},
   "outputs": [],
   "source": [
    "%sx pip install compiam\n",
    "\n",
    "import compiam"
   ]
  },
  {
   "cell_type": "code",
   "execution_count": null,
   "metadata": {},
   "outputs": [],
   "source": [
    "from compiam.timbre.stroke_classification import MridangamStrokeClassification\n",
    "melodia = MridangamStrokeClassification()  # initializing a melodia instance\n",
    "pitch_track = melodia.extract(\"/path/to/audio\")"
   ]
  },
  {
   "cell_type": "markdown",
   "metadata": {},
   "source": [
    "## Tabla\n",
    "{cite}`4way_tabla`"
   ]
  },
  {
   "cell_type": "code",
   "execution_count": null,
   "metadata": {},
   "outputs": [],
   "source": [
    "from compiam.rhythm.transcription import FourWayTabla\n",
    "ftanet_carnatic = FourWayTabla()  # initializing a melodia instance\n",
    "pitch_track = ftanet_carnatic.extract(\"/path/to/audio\")"
   ]
  }
 ],
 "metadata": {
  "kernelspec": {
   "display_name": "Python 3.9.4 64-bit",
   "language": "python",
   "name": "python3"
  },
  "language_info": {
   "name": "python",
   "version": "3.9.4"
  },
  "orig_nbformat": 4,
  "vscode": {
   "interpreter": {
    "hash": "aee8b7b246df8f9039afb4144a1f6fd8d2ca17a180786b69acc140d282b71a49"
   }
  }
 },
 "nbformat": 4,
 "nbformat_minor": 2
}
