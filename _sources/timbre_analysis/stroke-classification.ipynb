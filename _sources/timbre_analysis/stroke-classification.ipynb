{
 "cells": [
  {
   "cell_type": "markdown",
   "metadata": {},
   "source": [
    "(stroke-classification)=\n",
    "# Stroke classification\n",
    "\n",
    "Introduction here!\n",
    "\n",
    "## Mridangam stroke classification\n",
    "\n",
    "{cite}`anantapadmanabhan_mridangam_2013, mridangam_stroke`"
   ]
  },
  {
   "cell_type": "code",
   "execution_count": null,
   "metadata": {
    "tags": [
     "remove-output"
    ]
   },
   "outputs": [],
   "source": [
    "#%pip install compiam\n",
    "\n",
    "## Importing compiam to the project\n",
    "import compiam\n",
    "\n",
    "# Import extras and supress warnings to keep the tutorial clean\n",
    "import random\n",
    "from pprint import pprint\n",
    "import warnings\n",
    "warnings.filterwarnings('ignore')"
   ]
  },
  {
   "cell_type": "code",
   "execution_count": null,
   "metadata": {
    "tags": [
     "remove-output"
    ]
   },
   "outputs": [],
   "source": [
    "from compiam.timbre.stroke_classification import MridangamStrokeClassification\n",
    "mridangam_stroke_classification = MridangamStrokeClassification()\n"
   ]
  },
  {
   "cell_type": "markdown",
   "metadata": {},
   "source": [
    "Let's start by loading the mridangam stroke dataset. Since ``MridangamStrokeClassification``is based on the Mridangam Stroke Dataset, `compiam` includes a specific function to load the dataset and integrate it to the pipeline."
   ]
  },
  {
   "cell_type": "code",
   "execution_count": null,
   "metadata": {
    "tags": [
     "remove-output"
    ]
   },
   "outputs": [],
   "source": [
    "mridangam_stroke_classification.load_mridangam_dataset(\n",
    "    data_home=\"../workspace/\", download=True)"
   ]
  },
  {
   "cell_type": "markdown",
   "metadata": {},
   "source": [
    "```{note}\n",
    "This function does not return a dataloader. Instead, the dataloader lives within the tool class. We will see how this works in the following steps of this walkthrough.\n",
    "```"
   ]
  },
  {
   "cell_type": "code",
   "execution_count": null,
   "metadata": {},
   "outputs": [],
   "source": [
    "# Print list of available mirdangam strokes in the dataset\n",
    "mridangam_stroke_classification.list_strokes()"
   ]
  },
  {
   "cell_type": "markdown",
   "metadata": {},
   "source": [
    "Let's train and evaluate a very basic model to perform classification of mridangam strokes. We first use a util function in `compiam` to separate a part of the mridangam dataset, which we will use for evaluation."
   ]
  },
  {
   "cell_type": "code",
   "execution_count": null,
   "metadata": {},
   "outputs": [],
   "source": [
    "from compiam.utils.datasets import split_mirdata_tracks\n",
    "\n",
    "train_split, evaluation_split = split_mirdata_tracks(mridangam_stroke_classification.dataset, split=0.1)\n",
    "\n",
    "# Let's print out a random track from the created evaluation split\n",
    "random.choice(list(evaluation_split.items()))"
   ]
  },
  {
   "cell_type": "markdown",
   "metadata": {},
   "source": [
    "Our class will assume that the entire dataset is used for the training process. We need to update the dataset in the class with the training split."
   ]
  },
  {
   "cell_type": "code",
   "execution_count": null,
   "metadata": {},
   "outputs": [],
   "source": [
    "mridangam_stroke_classification.mridangam_tracks = train_split\n",
    "mridangam_stroke_classification.mridangam_ids = list(train_split.keys())"
   ]
  },
  {
   "cell_type": "markdown",
   "metadata": {},
   "source": [
    "**Let's now train the model!** We will train Support Vector Machine (SVM) model using `scikit learn`. The mridangam stroke classification tool in `compiam` uses the [MusicExtraction in Essentia](https://essentia.upf.edu/streaming_extractor_music.html) to compute low-level features from the stroke recordings and feed the model.\n",
    "\n",
    "```{note}\n",
    "You can also train a different model and compare the performance. We offer other options (see [the documentation of the tool](https://mtg.github.io/compIAM/source/timbre.html#mridangam-stroke-classification)), but feel free to open a Pull Request in `compiam` to add more models to the available options.\n",
    "```\n"
   ]
  },
  {
   "cell_type": "code",
   "execution_count": null,
   "metadata": {
    "tags": [
     "remove-output"
    ]
   },
   "outputs": [],
   "source": [
    "svm__accuracy = mridangam_stroke_classification.train_model()"
   ]
  },
  {
   "cell_type": "markdown",
   "metadata": {},
   "source": [
    "**The model has been trained. That is good!** We have also got the accuracy returned in case we want to store it, re-train the model again using different settings, and compare. \n",
    "\n",
    "Now we can predict the stroke on a particular list of instances. First, we need to get the list of paths for the `mirdata` dataset split we generated a few steps earlier."
   ]
  },
  {
   "cell_type": "code",
   "execution_count": null,
   "metadata": {
    "tags": [
     "remove-output"
    ]
   },
   "outputs": [],
   "source": [
    "# Get paths from created evaluation split\n",
    "eval_paths = [evaluation_split[x].audio_path for x in list(evaluation_split.keys())]\n",
    "\n",
    "# Compute prediction from list of paths\n",
    "prediction = mridangam_stroke_classification.predict(eval_paths)"
   ]
  },
  {
   "cell_type": "code",
   "execution_count": null,
   "metadata": {},
   "outputs": [],
   "source": [
    "# Visualise and evaluate some predictions from the model output\n",
    "pprint(random.choice(list(prediction.items())))\n",
    "pprint(random.choice(list(prediction.items())))\n",
    "pprint(random.choice(list(prediction.items())))"
   ]
  }
 ],
 "metadata": {
  "kernelspec": {
   "display_name": "Python 3.9.4 64-bit",
   "language": "python",
   "name": "python3"
  },
  "language_info": {
   "name": "python",
   "version": "3.9.4"
  },
  "orig_nbformat": 4,
  "vscode": {
   "interpreter": {
    "hash": "aee8b7b246df8f9039afb4144a1f6fd8d2ca17a180786b69acc140d282b71a49"
   }
  }
 },
 "nbformat": 4,
 "nbformat_minor": 2
}
