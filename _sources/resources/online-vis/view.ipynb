{
 "cells": [
  {
   "cell_type": "code",
   "execution_count": 1,
   "metadata": {},
   "outputs": [],
   "source": [
    "%matplotlib inline\n",
    "from ipywidgets import VBox, Layout, Button, Output\n",
    "import sys\n",
    "from matplotlib import pyplot as plt\n",
    "from utils import *\n",
    "from create_vis import create_score_panels\n",
    "\n",
    "# to suppress meaningless \"transparent...\" warnings\n",
    "import warnings\n",
    "import matplotlib.cbook\n",
    "warnings.filterwarnings(\"ignore\", category=matplotlib.cbook.mplDeprecation)\n",
    "\n",
    "sys.path.append(\"..\")\n",
    "from song_chooser import SongChooser\n",
    "from gui_controls import InProcess\n",
    "import matplotlib as mpl\n",
    "mpl.rcParams['figure.max_open_warning'] = 0"
   ]
  },
  {
   "cell_type": "markdown",
   "metadata": {},
   "source": [
    "# Searching for sañcāras\n",
    "\n",
    "This online demo can be used to browse through the repeated melodic pattern groups in Carnatic Music recordings. The patterns are grouped using a matrix similarity algorithm on top of time and pitch invariant feature embeddings learnt by a complex auto-encoder (CAE).\n",
    "\n",
    "Please do first click on the `Load recordings` button which will load the data for the interactive application. This make take a while. Then, you can browse the grouped patterns by performance. Some perfomances are annotated by an expert. In such case, the user is able to browse the patters than have been assigned to such annotations, meaning these are musicologically-relevant for the performance."
   ]
  },
  {
   "cell_type": "code",
   "execution_count": 2,
   "metadata": {
    "scrolled": false
   },
   "outputs": [
    {
     "data": {
      "application/vnd.jupyter.widget-view+json": {
       "model_id": "55f61daec4a44e958e35015bcbc286a1",
       "version_major": 2,
       "version_minor": 0
      },
      "text/plain": [
       "Button(button_style='danger', description='Load Recordings', layout=Layout(width='300px'), style=ButtonStyle()…"
      ]
     },
     "metadata": {},
     "output_type": "display_data"
    },
    {
     "data": {
      "application/vnd.jupyter.widget-view+json": {
       "model_id": "b684ee17a1f145bd8fed300a116473b1",
       "version_major": 2,
       "version_minor": 0
      },
      "text/plain": [
       "VBox(children=(SongChooser(children=(Dropdown(description='Select a recording:', layout=Layout(grid_area='widg…"
      ]
     },
     "metadata": {},
     "output_type": "display_data"
    },
    {
     "data": {
      "application/vnd.jupyter.widget-view+json": {
       "model_id": "9101199df4f243528a0a35b0682d2519",
       "version_major": 2,
       "version_minor": 0
      },
      "text/plain": [
       "Output()"
      ]
     },
     "metadata": {},
     "output_type": "display_data"
    }
   ],
   "source": [
    "def update_gui():\n",
    "    plt.close()\n",
    "    main_container.children = []\n",
    "    main_container.children = [top_select, InProcess(\"Processing...\")]\n",
    "    panels = create_score_panels(top_select.data, top_select.recording, top_select.option, top_select.pattern)\n",
    "    children = [top_select] + panels\n",
    "    main_container.children = children\n",
    "\n",
    "def reset_gui():\n",
    "    main_container.children = [top_select]\n",
    "    \n",
    "def on_button_clicked(b):\n",
    "    with output:\n",
    "        data = top_select.get_data()\n",
    "        top_select.data = data\n",
    "    main_container.children = [top_select]\n",
    "\n",
    "output = Output()\n",
    "button = Button(description = 'Load Recordings', button_style='danger', layout=Layout(width='300px'))\n",
    "button.on_click(on_button_clicked)\n",
    "top_select = SongChooser(update_gui, reset_gui)\n",
    "main_container = VBox(children=[top_select], layout = Layout(display='flex',\n",
    "                            flex_flow='column',\n",
    "                            align_items='stretch'))\n",
    "display(button, main_container, output)"
   ]
  },
  {
   "cell_type": "code",
   "execution_count": null,
   "metadata": {},
   "outputs": [],
   "source": [
    "#%%html\n",
    "#<form action=\"mail.php\" method=\"POST\">\n",
    "#<p>Name</p> <input type=\"text\" name=\"name\">\n",
    "#<p>Email</p> <input type=\"text\" name=\"email\">\n",
    "#<p>Message</p><textarea name=\"message\" rows=\"6\" cols=\"25\"></textarea><br />\n",
    "#<input type=\"submit\" value=\"Send\"><input type=\"reset\" value=\"Clear\">\n",
    "#</form>"
   ]
  },
  {
   "cell_type": "code",
   "execution_count": null,
   "metadata": {},
   "outputs": [],
   "source": []
  }
 ],
 "metadata": {
  "kernelspec": {
   "display_name": "Python 3",
   "language": "python",
   "name": "python3"
  },
  "language_info": {
   "codemirror_mode": {
    "name": "ipython",
    "version": 3
   },
   "file_extension": ".py",
   "mimetype": "text/x-python",
   "name": "python",
   "nbconvert_exporter": "python",
   "pygments_lexer": "ipython3",
   "version": "3.9.4"
  }
 },
 "nbformat": 4,
 "nbformat_minor": 4
}
