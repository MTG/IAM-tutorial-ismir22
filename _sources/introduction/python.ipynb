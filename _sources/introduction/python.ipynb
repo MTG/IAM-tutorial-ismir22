{
 "cells": [
  {
   "cell_type": "markdown",
   "metadata": {},
   "source": [
    "(python)=\n",
    "# Python for audio processing\n",
    "\n",
    "```{margin} Relevant acronyms\n",
    "**ASP:**  Audio Signal Processing\n",
    "\n",
    "**MIR:** Music Information Retrieval\n",
    "\n",
    "**ML:** Machine Learning\n",
    "\n",
    "**DL:** Deep Learning\n",
    "```\n",
    "\n",
    "All code-related materials in this tutorial are based in [Python](https://www.python.org/). There are several relevant courses and learning materials you may refer to for learning the basics of Python for ASP. We want to highlight the [course in Coursera on Audio Signal Processing for Music Applications](https://www.coursera.org/learn/audio-signal-processing) and [AudioLabs-Erlangen FMP Notebooks](https://www.audiolabs-erlangen.de/resources/MIR/FMP/C0/C0.html).\n",
    "\n",
    "In this section we provide a brief overview of the very basics of Python for digital processing of audio signals, hoping that it serves as a useful entry point to this tutorials for readers that do not have a lot of experience on that particular topic. If you are familiar with the said topic, this section may still be useful since relevant tools for this topic are showcased. \n",
    "\n",
    "```{note}\n",
    "Bear in mind that this is not a complete introduction to ASP: we are just trying to provide an overview of how we process and extract information from audio signals in this tutorial using Python. For a deep introduction the ASP and MIR please refer to the linked tutorials in the paragraph above.\n",
    "```"
   ]
  },
  {
   "cell_type": "markdown",
   "metadata": {},
   "source": [
    "## Discretizing audio signals\n",
    "In a real-world scenario, sound is produced by pressure waves, air vibrations that are processed by our ears and converted into what we hear. From a computational point of view, we have to convert these signals into a measurable representation that a machine is able to read and process. In other words, these signals must be digitalized or discretizing the continuous (or analog) sound into a representable sequence of values. See an example in {numref}`digital_signal`.\n",
    "\n",
    "```{figure} ../images/digital_signal.gif\n",
    "---\n",
    "alt: Digitalizing a continuous signal\n",
    "name: digital_signal\n",
    "---\n",
    "We represent the continuous signal using a sequence of points (image from [sonimbus.com](https://sonimus.com/blog/info/sample-rate-and-bit-depth-explained.html)).\n",
    "```\n",
    "\n",
    "```{note}\n",
    "The time-step between points is given by the **sampling frequency (or sampling rate)**, which is a variable given in Hertz (Hz), and that indicates us how many samples per seconds we are using to represent the continuous signal. Common values for music signals are 8kHz, 16kHz, 22.05kHz, 44.1kHz, and finally 48kHz.\n",
    "```"
   ]
  },
  {
   "cell_type": "markdown",
   "metadata": {},
   "source": [
    "**The important thing here is:** these captured discrete values can be easily loaded and used in a Python project, normally represented as an [array of data points](https://numpy.org/doc/stable/reference/generated/numpy.array.html). We can use several different libraries and pipelines to load and process audio signals in a Python environment. As you may be expecting, the computational analysis of Indian Art Music builds on top of representations of the audio signals from which we extract the musicologically relevant information and therefore, it is important to understand how we handle these data."
   ]
  },
  {
   "cell_type": "markdown",
   "metadata": {},
   "source": [
    "## Loading an audio signal\n",
    "We will load an audio signal to observe how it looks like in a Python development scenario. We will use [Essentia](https://github.com/MTG/essentia), an audio processing library which is actually written in C++ but is wrapper in Python. Therefore it is fast! Let's first install Essentia to our environment."
   ]
  },
  {
   "cell_type": "code",
   "execution_count": null,
   "metadata": {
    "tags": [
     "remove-output"
    ]
   },
   "outputs": [],
   "source": [
    "%pip install essentia"
   ]
  },
  {
   "cell_type": "markdown",
   "metadata": {},
   "source": [
    "Let's now import the Essentia standard module, which includes several different algorithms for multiple purposes. Check out [the documentation](https://essentia.upf.edu/) for further detail."
   ]
  },
  {
   "cell_type": "code",
   "execution_count": null,
   "metadata": {
    "tags": [
     "remove-output"
    ]
   },
   "outputs": [],
   "source": [
    "import essentia\n",
    "import essentia.standard as estd\n",
    "\n",
    "# Let's also import util modules for data processing and visualisation\n",
    "import os\n",
    "import math\n",
    "import datetime\n",
    "\n",
    "import numpy as np\n",
    "import matplotlib.pyplot as plt\n",
    "import IPython.display as ipd"
   ]
  },
  {
   "cell_type": "markdown",
   "metadata": {},
   "source": [
    "We will now use the `MonoLoader` function, which as the name suggests, loads an audio signal in mono.\n",
    "\n",
    "```{note}\n",
    "As you may know, audio signals can be represented in two channels, with different information in each of them. This is typically used in modern music recording systems, to mix and pan the different sources away from the center.\n",
    "```"
   ]
  },
  {
   "cell_type": "code",
   "execution_count": null,
   "metadata": {},
   "outputs": [],
   "source": [
    "audio = estd.MonoLoader(\n",
    "    filename=os.path.join(\"..\", \"audio\", \"testing_samples\", \"test_1.wav\")\n",
    ")()  # Loading audio at sampling rate of 44100 (default)\n",
    "\n",
    "print(np.shape(audio))"
   ]
  },
  {
   "cell_type": "markdown",
   "metadata": {},
   "source": [
    "By default, `MonoLoader()` resamples the input audio to 44.1Hz. Having this in mind, we can compute the actual duration of the piece in seconds, which is done by dividing the total number of samples in the signal by the sampling frequency (which as a matter of fact indicates how many samples we do use to represent a second of audio)."
   ]
  },
  {
   "cell_type": "code",
   "execution_count": null,
   "metadata": {},
   "outputs": [],
   "source": [
    "duration = math.ceil(len(audio) / 44100)\n",
    "\n",
    "# Printing duration in h/m/s format\n",
    "print(str(datetime.timedelta(seconds=duration)).split(\".\")[0])"
   ]
  },
  {
   "cell_type": "markdown",
   "metadata": {},
   "source": []
  },
  {
   "cell_type": "markdown",
   "metadata": {},
   "source": [
    "Our variable ``audio`` is now a one-dimensional array of values, each of these values representing the points we have used to discretize the analog signal. \n",
    "\n",
    "```{important}\n",
    "Most signal processing libraries load the audio signals in the sampling rate originally used when the audio was converted to digital. However, we may be able to resample the audio at loading time, if needed.\n",
    "```"
   ]
  },
  {
   "cell_type": "code",
   "execution_count": null,
   "metadata": {},
   "outputs": [],
   "source": [
    "audio_22050 = estd.MonoLoader(\n",
    "    filename=os.path.join(\"..\", \"audio\", \"testing_samples\", \"test_1.wav\"),\n",
    "    sampleRate=22050\n",
    ")()  # Loading audio at sampling rate of 22050\n",
    "duration_22050 = math.ceil(len(audio_22050) / 22050)  # We use sampling rate of 22050 now\n",
    "\n",
    "# Printing duration of audio sampled at 22050\n",
    "print(str(datetime.timedelta(seconds=duration_22050)).split(\".\")[0])\n",
    "\n",
    "# Length ratio for fs=44100 and 22050\n",
    "print(round(len(audio) / len(audio_22050), 3))"
   ]
  },
  {
   "cell_type": "markdown",
   "metadata": {},
   "source": [
    "As expected, the duration in seconds is the same as before. However, if we use sampling rate of 22.05kHz, we observe that the actual length in samples of the audio signal is exactly half the length of the signal sampled at 44.1Hz. That is because, we are using half the samples to represent a second of audio."
   ]
  },
  {
   "cell_type": "markdown",
   "metadata": {},
   "source": [
    "### Visualising the audio signal\n",
    "**Visualising (and also listening!) to our data is very important.** Python can help you with that! Listening to our data within a Python environment can be achieved in many ways. If you are working with Jupyter notebooks, you can use `IPython.display`."
   ]
  },
  {
   "cell_type": "code",
   "execution_count": null,
   "metadata": {},
   "outputs": [],
   "source": [
    "audio = estd.MonoLoader(\n",
    "    filename=os.path.join(\"..\", \"audio\", \"testing_samples\", \"test_1.wav\")\n",
    ")()\n",
    "ipd.Audio(audio, rate=44100)"
   ]
  },
  {
   "cell_type": "markdown",
   "metadata": {},
   "source": [
    "Let's now visualize the waveform. "
   ]
  },
  {
   "cell_type": "code",
   "execution_count": null,
   "metadata": {},
   "outputs": [],
   "source": [
    "audio = estd.MonoLoader(\n",
    "    filename=os.path.join(\"..\", \"audio\", \"testing_samples\", \"test_1.wav\")\n",
    ")()\n",
    "\n",
    "plt.figure(figsize=(10, 6))\n",
    "plt.plot(audio)\n",
    "plt.title(\"Waveform of example audio sample\")\n",
    "plt.xlabel(\"Time\")\n",
    "plt.ylabel(\"Amplitude\")\n",
    "plt.show()"
   ]
  },
  {
   "cell_type": "markdown",
   "metadata": {},
   "source": [
    "## Representing audio in the frequency domain\n",
    "You might have heard about the [Fourier transform](https://en.wikipedia.org/wiki/Fourier_transform). In a few words, it is basically a transformation in which a signal represented in the time domain is decomposed in the frequency components that are present in the signal. To understand that statement, it is important to note that an audio signal is formed by the combination of multiple sinusoids, which are oscillatory signals defined by the following formula: \n",
    "\n",
    "$$ y(t) = Asin(2 \\pi f t + \\phi) $$\n",
    "\n",
    "In other words, each sinusoid is defined by a particular amplitude $A$, frequency $f$, and phase $\\phi$, and follows a sinusoidal behaviour, oscillating at the given frequency. The variable $t$ represents the time vector, in which we are capturing or analyzing the signal. Let's generate a sinusoid at frequency 440Hz.\n",
    "\n",
    "```{important}\n",
    "**Be careful with the volume (btw given by the amplitude $A$) when listening to single sinusoids (aka pure tones).** It might be harmful, specially if listened with headphones and for a long time.\n",
    "```"
   ]
  },
  {
   "cell_type": "code",
   "execution_count": null,
   "metadata": {},
   "outputs": [],
   "source": [
    "t = np.arange(0, 1, 1/44100)  # Duration: 1s, sampling rate: 44100Hz\n",
    "sinusoid_440 = np.sin(2*np.pi*440*t + 0)\n",
    "\n",
    "# Playing sinusoid of 440Hz\n",
    "ipd.Audio(sinusoid_440, rate=44100)\n"
   ]
  },
  {
   "cell_type": "markdown",
   "metadata": {},
   "source": [
    "The Fourier's Theorem basically states that any signal can be decomposed into an overlap of several of these sinusoids. **Why is that relevant?**. Let's take a look at some different sinusoids."
   ]
  },
  {
   "cell_type": "code",
   "execution_count": null,
   "metadata": {},
   "outputs": [],
   "source": [
    "sinusoid_220 = np.sin(2*np.pi*220*t + 0)\n",
    "\n",
    "# Playing sinusoid of 220Hz\n",
    "ipd.Audio(sinusoid_220, rate=44100)"
   ]
  },
  {
   "cell_type": "code",
   "execution_count": null,
   "metadata": {},
   "outputs": [],
   "source": [
    "sinusoid_880 = np.sin(2*np.pi*880*t + 0)\n",
    "\n",
    "# Playing sinusoid of 880Hz\n",
    "ipd.Audio(sinusoid_880, rate=44100)"
   ]
  },
  {
   "cell_type": "markdown",
   "metadata": {},
   "source": [
    "Higher frequencies are high pitched, while lower frequencies sound lower in our ears. In practice, computing the frequencies that are present in a music signal provides a lot of relevant information to understand the signals and their content. Depending on the type of sound, the timbre, the notes played in case the source is a musical instrument, the frequency representation of the signal will look several various different ways.\n",
    "\n",
    "Within the context of computational analysis of a musical repertoire, the frequency domain is useful for many purposes, e. g. to understand the timbre of particular instruments, to capture the notes or melodies that are being performed, and many more. In a ML/DL scenario, frequency-based representations of audio signals are broadly used as input feature for models, providing notable advantages for many tasks. That is why, several approaches within the field of ASP and MIR build on top of this representation, which in many cases captures more information that the raw waveform.\n",
    "\n",
    "Let's now visualise, in practise, how a Fourier transform, also known as spectrum of a particular signal looks like:"
   ]
  },
  {
   "cell_type": "code",
   "execution_count": null,
   "metadata": {
    "tags": []
   },
   "outputs": [],
   "source": [
    "# We sum the three sinusoids\n",
    "signal = np.array(\n",
    "    sinusoid_220 + sinusoid_440 + sinusoid_880,\n",
    "    dtype=np.single,\n",
    ")\n",
    "\n",
    "# We create the spectrum of the signal\n",
    "spectrum = estd.Spectrum() \n",
    "window = estd.Windowing(type=\"hann\")\n",
    "signal_spectrum = spectrum(window(signal))\n",
    "\n",
    "# We create a x vector to represent the frequencies\n",
    "xf = np.arange(0, len(signal_spectrum), 1)  \n",
    "\n",
    "plt.figure(figsize=(15, 6))\n",
    "plt.plot(xf, signal_spectrum)\n",
    "plt.xlabel(\"Frequency\")\n",
    "plt.ylabel(\"Energy\")\n",
    "plt.xlim(0, 1000)  # Limiting view to area of interest\n",
    "plt.title(\"Spectrum of a simple signal\")\n",
    "plt.show()"
   ]
  },
  {
   "cell_type": "markdown",
   "metadata": {},
   "source": [
    "```{note}\n",
    "We could also use ``estd.FFT()``, with FFT standing for (Fast Fourier Transform). However, this function does not disregard the complex part generated by the transformation. For more information see [the documentation](https://essentia.upf.edu/reference/std_FFT.html).\n",
    "```\n",
    "\n",
    "Note that the peaks are showing up exactly where the frequencies of the considered sinusoids are. Let us remark at this point an important implication of the sampling frequency here. Given the [Nyquist-Shannon theorem](https://en.wikipedia.org/wiki/Nyquist%E2%80%93Shannon_sampling_theorem), we can just correctly represent the frequency values $f$ if $f <= f_s / 2$, being $f_s$ the sampling frequency of the signal. Therefore, the higher the $f_s$, the more detail we do have in time, but also the wider the frequency range we can evaluate.\n",
    "\n",
    "Going back to the spectrum we have plotted above, note that this representation is OK for this use case, however, trying to compute the spectrum for a complete Carnatic or Hindustani music recording will not be very useful, since a massive amount of different sinusoids will appear in an entire performance. For that reason, in a computational musicology scenario, we need a representation that also considers the time dimension.\n",
    "\n",
    "## Time-frequency representation\n",
    "A spectrogram, commonly computed using the STFT (Short-Time Fourier Transform), is a time-frequency representation in which a chain of spectrums are calculated from a signal by sliding, with a particular **hop size** a window of particular **window size (or frame size)** which indicates the time section in which to apply the frequency decomposition. We always use **window size** > **hop size**, therefore there is an overlap of windows, which actually provides a smoother chaining and better frequency analysis. A particular window function is applied to each frame to ensure a more natural overlap. For our computational musicology studies, this representation is very important.\n",
    "\n",
    "We will use [`librosa`](https://librosa.org/doc/latest/index.html) in this case: a Python-based package for audio signal processing. `librosa` includes nice visualisation tools. Let us show how a time-frequency representation looks like, and how we can compute it in a few steps."
   ]
  },
  {
   "cell_type": "code",
   "execution_count": null,
   "metadata": {},
   "outputs": [],
   "source": [
    "import librosa\n",
    "import librosa.display"
   ]
  },
  {
   "cell_type": "code",
   "execution_count": null,
   "metadata": {},
   "outputs": [],
   "source": [
    "# Computing time-frequency representation for signal above\n",
    "D = librosa.stft(signal)  # STFT of y\n",
    "S_db = librosa.amplitude_to_db(np.abs(D), ref=np.max)\n",
    "\n",
    "# And plotting!\n",
    "fig, ax = plt.subplots()\n",
    "img = librosa.display.specshow(S_db, x_axis='time', y_axis='linear', ax=ax)\n",
    "ax.set(title='Time-frequency representation')\n",
    "ax.set(ylim=[0, 2000])\n",
    "fig.colorbar(img, ax=ax, format=\"%+2.f dB\")"
   ]
  },
  {
   "cell_type": "markdown",
   "metadata": {},
   "source": [
    "Let's now plot a more applied signal. We will use a testing audio of 2 seconds, and observe how it looks like."
   ]
  },
  {
   "cell_type": "code",
   "execution_count": null,
   "metadata": {},
   "outputs": [],
   "source": [
    "# librosa may also be used to load audio\n",
    "y, sr = librosa.load(\n",
    "    os.path.join(\"..\", \"audio\", \"testing_samples\", \"test_1.wav\")\n",
    ")\n",
    "\n",
    "# Computing time-frequency representation for signal above\n",
    "D = librosa.stft(y)  # STFT of y\n",
    "S_db = librosa.amplitude_to_db(np.abs(D), ref=np.max)\n",
    "\n",
    "# And plotting!\n",
    "fig, ax = plt.subplots()\n",
    "img = librosa.display.specshow(S_db, x_axis='time', y_axis='linear', ax=ax)\n",
    "ax.set(title='Time-frequency representation')\n",
    "ax.set(ylim=[0, 2000])\n",
    "fig.colorbar(img, ax=ax, format=\"%+2.f dB\")"
   ]
  },
  {
   "cell_type": "markdown",
   "metadata": {},
   "source": [
    "We see that, since multiple pitches are being sung (even in only two seconds), this representation is more appropiate to use. We will refer to the time-frequency representation (aka spectrogram) many times durinng the tutorial, so make sure to understand it clearly.\n",
    "\n",
    "Other variants may be computed from the spectrogram, e.g. [mel-spectrogram](https://medium.com/analytics-vidhya/understanding-the-mel-spectrogram-fca2afa2ce53). Also, other time-frequency representations more specific for particular tasks may be used, e.g. [chroma features](https://en.wikipedia.org/wiki/Chroma_feature). No explicit use of these is included in this tutorial, but we suggest the reader to go through them. These are very important in the field of ASP and MIR."
   ]
  }
 ],
 "metadata": {
  "kernelspec": {
   "display_name": "Python 3.9.4 64-bit",
   "language": "python",
   "name": "python3"
  },
  "language_info": {
   "name": "python",
   "version": "3.9.4"
  },
  "orig_nbformat": 4,
  "vscode": {
   "interpreter": {
    "hash": "aee8b7b246df8f9039afb4144a1f6fd8d2ca17a180786b69acc140d282b71a49"
   }
  }
 },
 "nbformat": 4,
 "nbformat_minor": 2
}
