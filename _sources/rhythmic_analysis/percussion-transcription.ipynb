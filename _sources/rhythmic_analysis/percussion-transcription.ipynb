{
 "cells": [
  {
   "cell_type": "markdown",
   "metadata": {},
   "source": [
    "(percussion-transcription)=\n",
    "# Percussion transcription"
   ]
  },
  {
   "cell_type": "markdown",
   "metadata": {},
   "source": [
    "A presentation of the different strokes for the main percussion instruments in [Carnatic](carnatic-rhythm) and [Hindustani](hindustani-rhythm) music is given in the musical introductory session. The automatic transcription or categorization of these strokes, locating them in the corresponding point in time, is notably relevant given the key role of the percussion patterns in Indian Art Music performances. This task has tool in which More recently, DL models have been trained to locate the onsets in percussion recordings while recognising which stroke is being played at each onset. Relevant research has been also carried out aiming at characterizing percussion patterns in the most common rhythmic instruments in Indian Art Music {cite}`gupta_tabla_2015`. This has been also achieved by adapting a DL model for standard drums, drawing relationships between timbres in a regular drum set and a tabla instrument {cite}`4way_tabla`. \n",
    "\n",
    "```{spoiler}\n",
    "These two models will be available through `compiam` very soon!\n",
    "```\n",
    "\n"
   ]
  }
 ],
 "metadata": {
  "kernelspec": {
   "display_name": "Python 3.9.4 64-bit",
   "language": "python",
   "name": "python3"
  },
  "language_info": {
   "name": "python",
   "version": "3.9.4"
  },
  "orig_nbformat": 4,
  "vscode": {
   "interpreter": {
    "hash": "aee8b7b246df8f9039afb4144a1f6fd8d2ca17a180786b69acc140d282b71a49"
   }
  }
 },
 "nbformat": 4,
 "nbformat_minor": 2
}
