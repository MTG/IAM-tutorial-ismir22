{
 "cells": [
  {
   "attachments": {},
   "cell_type": "markdown",
   "metadata": {},
   "source": [
    "(melodic-pattern-discovery)=\n",
    "# Melodic pattern dicovery\n",
    "\n",
    "Melodic pattern discovery is a core task within the melodic analysis of Indian Art Music, most of the approaches building on top of time-series of pitch {cite}`ishwar_patterns_2013, rao_patterns_2014, gulati_patterns_2015, gulati_patterns_2016, gulati_patterns_2016_2`. In fact, {cite}`velankar_patterns_2018` reviews the melodic recognition task in Carnatic Music and concludes that using pitch data drives to better performance. On the same line, a musically-relevant statistical analysis of melodic patterns is proposed in {cite}`viraraghavan_patterns_2017`, aiming at providing a more handy representation of this important aspect for Carnatic and Hindustani Music. \n",
    "\n",
    "More recently, the task of melodic pattern discovery has been approached taking advantage of DL techniques by combining the learnt features from a complex autoencoder and an attention-based vocal pitch extraction model {cite}`nuttall_patterns_2022b`. Multiple design choices of this entire process are informed by tradition characteristics.\n",
    "\n"
   ]
  },
  {
   "cell_type": "code",
   "execution_count": null,
   "metadata": {},
   "outputs": [],
   "source": [
    "## Importing compiam to the project\n",
    "import compiam\n",
    "\n",
    "# Import extras and supress warnings to keep the tutorial clean\n",
    "import os\n",
    "import numpy as np\n",
    "from pprint import pprint\n",
    "\n",
    "import warnings\n",
    "warnings.filterwarnings('ignore')"
   ]
  },
  {
   "attachments": {},
   "cell_type": "markdown",
   "metadata": {},
   "source": [
    "# Sañcara search"
   ]
  },
  {
   "cell_type": "code",
   "execution_count": null,
   "metadata": {},
   "outputs": [],
   "source": [
    "pprint(compiam.melody.pattern.list_tools())"
   ]
  },
  {
   "attachments": {},
   "cell_type": "markdown",
   "metadata": {},
   "source": [
    "```{note} Walkthrough coming soon!\n",
    "To go through the tool available in compiam for this task, please refer to [this link](https://github.com/MTG/IAM-tutorial-ismir22/blob/master/webbook/melodic_analysis/exploring-raga.ipynb), download the notebook, and run it locally following the instructions provided in the notebook itself.\n",
    "```"
   ]
  }
 ],
 "metadata": {
  "kernelspec": {
   "display_name": "Python 3.9.4 64-bit",
   "language": "python",
   "name": "python3"
  },
  "language_info": {
   "name": "python",
   "version": "3.9.4"
  },
  "orig_nbformat": 4,
  "vscode": {
   "interpreter": {
    "hash": "aee8b7b246df8f9039afb4144a1f6fd8d2ca17a180786b69acc140d282b71a49"
   }
  }
 },
 "nbformat": 4,
 "nbformat_minor": 2
}
