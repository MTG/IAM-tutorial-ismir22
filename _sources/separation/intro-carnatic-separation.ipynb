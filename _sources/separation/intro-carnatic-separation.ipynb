{
 "cells": [
  {
   "cell_type": "markdown",
   "metadata": {},
   "source": [
    "(intro-carnatic-separation)=\n",
    "# Music source separation for Carnatic Music\n",
    "\n",
    "As seen in the [music segmentation example](music-segmentation), the vocal separation for Carnatic and Hindustani music remains an unsolved (and unexplored!) field. In the [singing voice separation](singing-voice-extraction) walkthrough you can find an example of a model developed specifically to perform vocal separation for Carnatic Music. Let's first introduce the task, the challenges, and current solutions.\n",
    "\n",
    "## Music source separation\n",
    "The problem of music source separation (MSS) is aimed at automatically estimating the individual elements in a music mixture. MSS systems, which recently are mostly based on DL architectures, operate on the waveform and on the time-frequency domain, and even on a combination of both. Since this is a core problem in the field of music information research, many efforts to obtain open and high-performance models are done, and several pre-trained systems are made available to be freely used out-of-the-box.\n",
    "\n",
    "MSS systems are normally trained using the mixture as input, and the target sources as expected output, and the models are optimized to reproduce the same operation. There are few datasets in the literature that may be used for that purpose: musdb18hq, moisesdb, and medleydb. However, these datasets mostly include recordings that ca be framed into the pop and rock styles, and therefore, as it normally happens in the field of DL, when training with data belonging in a particular domain, the generalization to out-of-domain use cases is not feasible.\n",
    "\n",
    "For the case of Carnatic Music we observe such problem. Not only the available models in the literature do not have any knowledge on this repertoire, but also the task of MSS normally targets the following source setup: _vocals_, _bass_, _drums_, and _other_, and that does not comply with the actual arrangement and nature of Carnatic Music. \n",
    "\n",
    "\n",
    "\n",
    "\n",
    "\n",
    "In this section we walkthrough a tool that has been trained using the {cite}`saraga`. Given the live performance nature of Carnatic Music, it is difficult, in fact current impossible, to find fully-isolated multi-stem recordings to train or fine-tune existing separation approaches. Saraga includes multi-stem recordings, but these have source bleeding in the background, since these have been recorded in live performances. In this section we present an approach that has been designed having the bleeding problem in mind."
   ]
  },
  {
   "cell_type": "code",
   "execution_count": null,
   "metadata": {
    "tags": [
     "remove-output"
    ]
   },
   "outputs": [],
   "source": [
    "## Installing (if not) and importing compiam to the project\n",
    "import importlib.util\n",
    "if importlib.util.find_spec('compiam') is None:\n",
    "    ## Bear in mind this will only run in a jupyter notebook / Collab session\n",
    "    %pip install compiam\n",
    "import compiam\n",
    "\n",
    "# Import extras and supress warnings to keep the tutorial clean\n",
    "import os\n",
    "import numpy as np\n",
    "from pprint import pprint\n",
    "\n",
    "import warnings\n",
    "warnings.filterwarnings('ignore')"
   ]
  },
  {
   "cell_type": "markdown",
   "metadata": {},
   "source": [
    "## Leakage-aware source separation model\n",
    "\n",
    "This model is able to separate clean singing voices even though it has been solely trained with data that have bleeding in the multi-track stems. Let's test how it works in a real example. Since the model is DL-based, we first need to install tensorflow."
   ]
  },
  {
   "cell_type": "code",
   "execution_count": null,
   "metadata": {
    "tags": [
     "remove-output"
    ]
   },
   "outputs": [],
   "source": [
    "%pip install tensorflow\n",
    "%pip install tensorflow_addons"
   ]
  },
  {
   "cell_type": "code",
   "execution_count": null,
   "metadata": {
    "tags": [
     "remove-output"
    ]
   },
   "outputs": [],
   "source": [
    "# Importing and initializing a melodia instance\n",
    "import soundfile as sf\n",
    "from compiam import load_model, load_dataset\n",
    "separation_model = load_model('separation:cold-diff-sep')\n",
    "\n",
    "# Loading an normalizing an example track\n",
    "saraga_carnatic = load_dataset(\n",
    "    \"saraga_carnatic\",\n",
    "    data_home=os.path.join(\"..\", \"audio\", \"mir_datasets\")\n",
    ")\n",
    "saraga_tracks = saraga_carnatic.load_tracks()\n",
    "example = saraga_tracks[\"109_Sri_Raghuvara_Sugunaalaya\"]\n",
    "input_mixture, sr = sf.read(example.audio_path)\n",
    "\n",
    "input_mixture = input_mixture.T\n",
    "mean = np.mean(input_mixture, keepdims=True)\n",
    "std = np.std(input_mixture, keepdims=True)\n",
    "input_mixture = (input_mixture - mean) / (1e-6 + std)"
   ]
  },
  {
   "cell_type": "code",
   "execution_count": null,
   "metadata": {
    "tags": [
     "remove-output"
    ]
   },
   "outputs": [],
   "source": [
    "### Getting 20 seconds and separating\n",
    "input_mixture = input_mixture[:, :44100*20]\n",
    "separation = separation_model.separate(\n",
    "    input_data=input_mixture,\n",
    "    input_sr=sr,\n",
    "    clusters=6,\n",
    "    scheduler=5,\n",
    ")"
   ]
  },
  {
   "cell_type": "code",
   "execution_count": null,
   "metadata": {},
   "outputs": [],
   "source": [
    "import IPython.display as ipd\n",
    "\n",
    "# And we play it!\n",
    "ipd.Audio(\n",
    "    data=separation,\n",
    "    rate=separation_model.sample_rate,\n",
    ")"
   ]
  },
  {
   "cell_type": "markdown",
   "metadata": {},
   "source": [
    "Although perceptible artifacts in the vocals can be heard, the separation is surprisingly clean, hopefully helping musicians and musicologists to extract relevant information for it. Also, less pitched noise is present in the signal so melodic feature extraction systems may work better on these data rather than in a complete mixture or in a singing voice with source bleeding in the background."
   ]
  }
 ],
 "metadata": {
  "kernelspec": {
   "display_name": "Python 3.9.4 64-bit",
   "language": "python",
   "name": "python3"
  },
  "language_info": {
   "name": "python",
   "version": "3.11.6"
  },
  "orig_nbformat": 4,
  "vscode": {
   "interpreter": {
    "hash": "aee8b7b246df8f9039afb4144a1f6fd8d2ca17a180786b69acc140d282b71a49"
   }
  }
 },
 "nbformat": 4,
 "nbformat_minor": 2
}
