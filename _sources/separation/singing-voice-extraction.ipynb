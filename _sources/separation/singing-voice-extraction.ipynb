{
 "cells": [
  {
   "cell_type": "markdown",
   "metadata": {},
   "source": [
    "(singing-voice-extraction)=\n",
    "# Singing voice extraction\n",
    "\n",
    "TODO"
   ]
  },
  {
   "cell_type": "code",
   "execution_count": null,
   "metadata": {
    "tags": [
     "remove-output"
    ]
   },
   "outputs": [],
   "source": [
    "## Installing (if not) and importing compiam to the project\n",
    "import importlib.util\n",
    "if importlib.util.find_spec('compiam') is None:\n",
    "    ## Bear in mind this will only run in a jupyter notebook / Collab session\n",
    "    %pip install compiam\n",
    "import compiam\n",
    "\n",
    "# Import extras and supress warnings to keep the tutorial clean\n",
    "import os\n",
    "import numpy as np\n",
    "from pprint import pprint\n",
    "\n",
    "import warnings\n",
    "warnings.filterwarnings('ignore')"
   ]
  },
  {
   "cell_type": "markdown",
   "metadata": {},
   "source": [
    "Let's first print out the available tools we do have available to extract the pitch from Indian Art Music recordings."
   ]
  },
  {
   "cell_type": "code",
   "execution_count": null,
   "metadata": {},
   "outputs": [],
   "source": [
    "pprint(compiam.melody.pitch_extraction.list_tools())"
   ]
  },
  {
   "cell_type": "markdown",
   "metadata": {},
   "source": [
    "\n",
    "## Leakage-aware source separation model"
   ]
  },
  {
   "cell_type": "code",
   "execution_count": null,
   "metadata": {
    "tags": [
     "remove-output"
    ]
   },
   "outputs": [],
   "source": [
    "%pip install tensorflow\n",
    "%pip install tensorflow_addons"
   ]
  },
  {
   "cell_type": "code",
   "execution_count": null,
   "metadata": {
    "tags": [
     "remove-output"
    ]
   },
   "outputs": [],
   "source": [
    "# Importing and initializing a melodia instance\n",
    "import soundfile as sf\n",
    "from compiam import load_model, load_dataset\n",
    "separation_model = load_model('separation:cold-diff-sep')\n",
    "\n",
    "# Loading an normalizing an example track\n",
    "saraga_carnatic = load_dataset(\n",
    "    \"saraga_carnatic\",\n",
    "    data_home=os.path.join(\"..\", \"audio\", \"mir_datasets\")\n",
    ")\n",
    "saraga_tracks = saraga_carnatic.load_tracks()\n",
    "example = saraga_tracks[\"109_Sri_Raghuvara_Sugunaalaya\"]\n",
    "input_mixture, sr = sf.read(example.audio_path)\n",
    "\n",
    "input_mixture = input_mixture.T\n",
    "mean = np.mean(input_mixture, keepdims=True)\n",
    "std = np.std(input_mixture, keepdims=True)\n",
    "input_mixture = (input_mixture - mean) / (1e-6 + std)"
   ]
  },
  {
   "cell_type": "code",
   "execution_count": null,
   "metadata": {},
   "outputs": [],
   "source": [
    "### Getting 30 seconds and separating\n",
    "input_mixture = input_mixture[:, :44100*30]\n",
    "separation = separation_model.separate(\n",
    "    input_data=input_mixture,\n",
    "    input_sr=sr\n",
    ")"
   ]
  },
  {
   "cell_type": "code",
   "execution_count": null,
   "metadata": {},
   "outputs": [],
   "source": [
    "import IPython.display as ipd\n",
    "\n",
    "# And we play it!\n",
    "ipd.Audio(\n",
    "    data=separation,\n",
    "    rate=separation_model.sample_rate,\n",
    ")"
   ]
  }
 ],
 "metadata": {
  "kernelspec": {
   "display_name": "Python 3.9.4 64-bit",
   "language": "python",
   "name": "python3"
  },
  "language_info": {
   "name": "python",
   "version": "3.11.6"
  },
  "orig_nbformat": 4,
  "vscode": {
   "interpreter": {
    "hash": "aee8b7b246df8f9039afb4144a1f6fd8d2ca17a180786b69acc140d282b71a49"
   }
  }
 },
 "nbformat": 4,
 "nbformat_minor": 2
}
