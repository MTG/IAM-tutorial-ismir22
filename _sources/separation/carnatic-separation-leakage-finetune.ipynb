{
 "cells": [
  {
   "cell_type": "markdown",
   "metadata": {},
   "source": [
    "(carnatic-separation-spleeter-finetune)=\n",
    "# Pre-trained Spleeter fine-tuned on Saraga\n",
    "\n",
    "Since DL systems tend to be quite tight to the data used for training, usually generalization for the same task on other domains is not ensured. Fortunately, we may rely on a technique called fine-tuning, which is very suitable for cases in which we have a small portion of annotated data or noisy data for a given domain, and training solely on these data is not feasible. Such technique consists of resuming the training process of a model that has been trained using data from domain 1, but this time using data from domain 2. Therefore, we take advantage of the knowledge that a pre-trained model has gained from a larger data of domain 1, while optimizing it to improve performance for domain 2.\n",
    "\n",
    "We perform an alike experiment using Saraga {cite}`saraga`. We take pre-trained Spleeter, and fine-tune it using Saraga, a non-ideal separation data collection since it has source bleeding in the background. The goal here is to take advantage of the separation knowledge that Spleeter has already obtained, while using the data in Saraga to teach the model about instrumentation and practices of Carnatic Music."
   ]
  },
  {
   "cell_type": "code",
   "execution_count": null,
   "metadata": {
    "tags": [
     "remove-output"
    ]
   },
   "outputs": [],
   "source": [
    "## Installing (if not) and importing compiam to the project\n",
    "import importlib.util\n",
    "if importlib.util.find_spec('compiam') is None:\n",
    "    ## Bear in mind this will only run in a jupyter notebook / Collab session\n",
    "    %pip install compiam\n",
    "import compiam\n",
    "\n",
    "# Import extras and supress warnings to keep the tutorial clean\n",
    "import os\n",
    "import numpy as np\n",
    "from pprint import pprint\n",
    "\n",
    "import warnings\n",
    "warnings.filterwarnings('ignore')\n",
    "\n",
    "# Installing and importing tensorflow in case is not installed\n",
    "%pip install tensorflow\n",
    "%pip install tensorflow_addons\n",
    "import tensorflow as tf\n",
    "import tensorflow_addons as tfa"
   ]
  },
  {
   "cell_type": "code",
   "execution_count": null,
   "metadata": {},
   "outputs": [],
   "source": [
    "import glob\n",
    "import soundfile as sf\n",
    "import IPython.display as ipd\n",
    "separation_examples = glob.glob(\"../audio/separation/*.mp3\")\n",
    "\n",
    "for ex in separation_examples:\n",
    "    print(\"#### Separating...\", ex)\n",
    "    input_mixture, sr = sf.read(ex)\n",
    "    print(\"Playing Leakage-aware separation\")\n",
    "    #ipd.Audio(\n",
    "    #    data=leakage_aware_separation,\n",
    "    #    rate=sr,\n",
    "    #)\n",
    "    # Running fine-tuned Spleeter\n",
    "    ### TODO\n",
    "\n",
    "    print(\"\\n\\n\")\n",
    "    "
   ]
  }
 ],
 "metadata": {
  "kernelspec": {
   "display_name": "Python 3.9.4 64-bit",
   "language": "python",
   "name": "python3"
  },
  "language_info": {
   "name": "python",
   "version": "3.11.6"
  },
  "orig_nbformat": 4,
  "vscode": {
   "interpreter": {
    "hash": "aee8b7b246df8f9039afb4144a1f6fd8d2ca17a180786b69acc140d282b71a49"
   }
  }
 },
 "nbformat": 4,
 "nbformat_minor": 2
}
