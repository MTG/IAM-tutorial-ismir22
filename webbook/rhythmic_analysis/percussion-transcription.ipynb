{
 "cells": [
  {
   "cell_type": "markdown",
   "metadata": {},
   "source": [
    "(percussion-transcription)=\n",
    "# Percussion transcription"
   ]
  },
  {
   "cell_type": "markdown",
   "metadata": {},
   "source": []
  },
  {
   "cell_type": "code",
   "execution_count": null,
   "metadata": {
    "tags": [
     "remove-output"
    ]
   },
   "outputs": [],
   "source": [
    "## Importing compiam to the project\n",
    "import compiam\n",
    "\n",
    "# Import extras and supress warnings to keep the tutorial clean\n",
    "from pprint import pprint\n",
    "import warnings\n",
    "warnings.filterwarnings('ignore')"
   ]
  },
  {
   "cell_type": "markdown",
   "metadata": {},
   "source": [
    "We will start by listing the available percussion transcription tools in `compiam`."
   ]
  },
  {
   "cell_type": "code",
   "execution_count": null,
   "metadata": {},
   "outputs": [],
   "source": [
    "pprint(compiam.rhythm.transcription.list_tools)"
   ]
  },
  {
   "cell_type": "markdown",
   "metadata": {},
   "source": [
    "(mnemonic-transcription)=\n",
    "## Mnemonic transcription\n",
    "This is a HMM (Hidden Markov Models) based approach that solves the task of percussion transcription using a two stage approach: first of all, the onsets in a tabla/mridangam performance are identified using the [akshara pulse tracker tool](akshara-pulse-tracker). Next, a HMM model is used to transcript the strokes, in other words, to assign, to each onset, a discrete notation which refers to the played stroke. See the [Carnatic Rhythm](carnatic-rhythm) and [Hindustai Rhythm](hindustani-rhythm) sections for further detail on the percussion instruments, their roles, and the stroke types. \n",
    "\n"
   ]
  },
  {
   "cell_type": "code",
   "execution_count": null,
   "metadata": {},
   "outputs": [],
   "source": [
    "from compiam.rhythm.transcription import MnemonicTranscription"
   ]
  },
  {
   "cell_type": "markdown",
   "metadata": {},
   "source": [
    "(tabla-transcription)=\n",
    "## Tabla transcription\n",
    "In this section we showcase a tabla transcription tool in which a DL model is trained to locate the onsets of a tabla recordings while recognising which stroke is being played at each onset {cite}`4way_tabla`. Let's observe how a DL model can learn to tackle this task. We observe in the documentation that this model is based on `torch`, therefore we need to install this dependency before moving on.\n",
    "\n",
    "This tool we showcase adapts a DL model for standard drums, drawing relationships between timbres in a regular drum set and a tabla instrument."
   ]
  },
  {
   "cell_type": "code",
   "execution_count": null,
   "metadata": {},
   "outputs": [],
   "source": [
    "%pip install torch==0.8.0"
   ]
  },
  {
   "cell_type": "code",
   "execution_count": null,
   "metadata": {},
   "outputs": [],
   "source": [
    "pprint(compiam.list_models)"
   ]
  },
  {
   "cell_type": "markdown",
   "metadata": {},
   "source": [
    "We observe that this tools is available to be loaded with the ``.load_models()`` wrapper. Note that we do have two versions for this model: ``rhythm:1way-tabla`` and ``rhythm:4way-tabla``. "
   ]
  }
 ],
 "metadata": {
  "kernelspec": {
   "display_name": "Python 3.9.4 64-bit",
   "language": "python",
   "name": "python3"
  },
  "language_info": {
   "name": "python",
   "version": "3.9.4"
  },
  "orig_nbformat": 4,
  "vscode": {
   "interpreter": {
    "hash": "aee8b7b246df8f9039afb4144a1f6fd8d2ca17a180786b69acc140d282b71a49"
   }
  }
 },
 "nbformat": 4,
 "nbformat_minor": 2
}
