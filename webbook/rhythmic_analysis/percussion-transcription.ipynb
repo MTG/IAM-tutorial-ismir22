{
 "cells": [
  {
   "cell_type": "markdown",
   "metadata": {},
   "source": [
    "(percussion-transcription)=\n",
    "# Percussion transcription"
   ]
  },
  {
   "cell_type": "markdown",
   "metadata": {},
   "source": []
  },
  {
   "cell_type": "code",
   "execution_count": null,
   "metadata": {
    "tags": [
     "remove-output"
    ]
   },
   "outputs": [],
   "source": [
    "## Importing compiam to the project\n",
    "import compiam\n",
    "\n",
    "# Import extras and supress warnings to keep the tutorial clean\n",
    "from pprint import pprint\n",
    "import warnings\n",
    "warnings.filterwarnings('ignore')"
   ]
  },
  {
   "cell_type": "markdown",
   "metadata": {},
   "source": [
    "We will start by listing the available percussion transcription tools in `compiam`."
   ]
  },
  {
   "cell_type": "code",
   "execution_count": null,
   "metadata": {},
   "outputs": [],
   "source": [
    "pprint(compiam.rhythm.transcription.list_tools())"
   ]
  },
  {
   "cell_type": "markdown",
   "metadata": {},
   "source": [
    "In this section we will showcase a tabla transcription tool in which a DL model is trained to locate the onsets of a tabla recordings while recognising which stroke is being played at each onset {cite}`4way_tabla`. \n",
    "\n",
    "(tabla-transcription)=\n",
    "## Four-way tabla transcription\n",
    "Let's observe how a DL model can learn to tackle the task of percussion transcription. This tool we showcase adapts a DL model for standard drums, drawing relationships between timbres in a regular drum set and a tabla instrument. \n",
    "\n",
    "We observe in the documentation that this model is based on `torch`, therefore we need to install this dependency before moving on."
   ]
  },
  {
   "cell_type": "code",
   "execution_count": null,
   "metadata": {},
   "outputs": [],
   "source": [
    "%pip install torch==0.8.0"
   ]
  },
  {
   "cell_type": "code",
   "execution_count": null,
   "metadata": {},
   "outputs": [],
   "source": [
    "pprint(compiam.list_models)"
   ]
  },
  {
   "cell_type": "markdown",
   "metadata": {},
   "source": [
    "We observe that this tools is available to be loaded with the ``.load_models()`` wrapper. Note that we do have two versions for this model: ``rhythm:1way-tabla`` and ``rhythm:4way-tabla``. As seen in the paper, 1-way models is trained separatedly per each stroke class, while the 4-way model learns to classify the strokes into four different classes. Let's take a look at the "
   ]
  }
 ],
 "metadata": {
  "kernelspec": {
   "display_name": "Python 3.9.4 64-bit",
   "language": "python",
   "name": "python3"
  },
  "language_info": {
   "name": "python",
   "version": "3.9.4"
  },
  "orig_nbformat": 4,
  "vscode": {
   "interpreter": {
    "hash": "aee8b7b246df8f9039afb4144a1f6fd8d2ca17a180786b69acc140d282b71a49"
   }
  }
 },
 "nbformat": 4,
 "nbformat_minor": 2
}
