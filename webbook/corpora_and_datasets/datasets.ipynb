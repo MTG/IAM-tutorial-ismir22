{
 "cells": [
  {
   "cell_type": "markdown",
   "metadata": {},
   "source": [
    "(datasets)=\n",
    "# Datasets\n",
    "\n",
    "Datasets are key for the data-driven computational research of a music tradition. Thoroughly designed collections of data that represent the most relevant aspects of a musical repertoire may open the door for solutions of several problems. For that reason, huge efforts have been made within the scope of this tutorial and ``compiam`` to (1) boost the visibility and access to Carnatic and Hindustani music datasets, and (2) provide standardized tools to get and use the said datasets.\n",
    "\n",
    "## `mirdata`\n",
    "[`mirdata`](https://mirdata.readthedocs.io/en/stable/) is an open-source and pip-installable Python library that provides tools for working with common Music Information Retrieval (MIR) datasets {cite}`mirdata`. Given the crucial importance and relevance of such a software for data and corpus-driven research, we have done a great efforts to integrate several IAM-centered datasets into `mirdata`. To date, the following datasets can be found in the latest `mirdata` release:\n",
    "\n",
    "* Carnatic collection of Saraga {cite}`saraga`\n",
    "* Hindustani collection of Saraga {cite}`saraga`\n",
    "* Carnatic Varnam Dataset {cite}`carnatic_varnam`\n",
    "* Carnatic Music Rhythm {cite}`carnatic_rhythm_dataset`\n",
    "* Hindustani Music Rhythm {cite}`hindustani_rhythm_dataset`\n",
    "* Indian Art Music Raga Dataset {cite}`raga_dataset`\n",
    "* Mridangam Stroke Dataset {cite}`mridangam_stroke`\n",
    "* Four-Way Tabla Dataset (ISMIR 2021) {cite}`4way_tabla`\n",
    "\n",
    "`compiam` provides access to these datasets through the mirdata loaders. Make sure to check the [`mirdata` documentation](https://mirdata.readthedocs.io/en/stable/source/mirdata.html#dataset-loaders) to learn the functionalities of the loaders.\n",
    "\n",
    "```{note}\n",
    "The alias of the `mirdata` method ``mirdata.initialize()`` in our library is ``compiam.load_dataset()``. Use this wrapper to access the `mirdata` loaders for Indian Art Music datasets from `compiam`.\n",
    "```"
   ]
  },
  {
   "cell_type": "code",
   "execution_count": null,
   "metadata": {
    "tags": [
     "remove-output"
    ]
   },
   "outputs": [],
   "source": [
    "%pip install compiam\n",
    "\n",
    "# Import compiam\n",
    "import compiam\n",
    "\n",
    "# Supress warnings to keep the tutorial clean\n",
    "import warnings\n",
    "warnings.filterwarnings('ignore')"
   ]
  },
  {
   "cell_type": "code",
   "execution_count": null,
   "metadata": {},
   "outputs": [],
   "source": [
    "saraga_carnatic = compiam.load_dataset(\"saraga_carnatic\")\n",
    "\n",
    "## Let's get a random track from the dataset!\n",
    "saraga_carnatic.choice_track()"
   ]
  },
  {
   "cell_type": "markdown",
   "metadata": {},
   "source": [
    "```{tip}\n",
    "Run ``compiam.list_datasets()`` to list the available datasets to use.\n",
    "```\n",
    "\n",
    "### Why mirdata loaders?\n",
    "Accessing the datasets through `mirdata` brings numerous advantages and provides a more standardized and easy integration of the said datasets into our pipelines. See:"
   ]
  },
  {
   "cell_type": "code",
   "execution_count": null,
   "metadata": {},
   "outputs": [],
   "source": [
    "import numpy as np\n",
    "\n",
    "## Loading all tracks from the dataset\n",
    "carnatic_tracks = saraga_carnatic.load_tracks()\n",
    "\n",
    "## Get available ragas\n",
    "available_raagas = np.unique([carnatic_tracks[x].metadata[\"raaga\"] for x in saraga_carnatic.track_ids])\n",
    "available_raagas"
   ]
  },
  {
   "cell_type": "markdown",
   "metadata": {},
   "source": [
    "Grouping recordings per raaga is a common organization strategy for the melodic analysis of Carnatic and Hindustani Music. This is very easy!\n",
    "\n",
    "```{note}\n",
    "See a detailed discussion about the concept of raaga in the [melodic section](melody-intro) of the tutorial.\n",
    "```"
   ]
  },
  {
   "cell_type": "code",
   "execution_count": null,
   "metadata": {},
   "outputs": [],
   "source": [
    "raaga_dict = {x: [] for x in available_raagas}\n",
    "for idx in saraga_carnatic.track_ids:\n",
    "    if carnatic_tracks[idx].metadata[\"raaga\"] is not None:\n",
    "        raaga_dict[carnatic_tracks[idx].metadata[\"raaga\"]].append(idx)\n",
    "\n",
    "print(\"Displaying available tracks for raaga {}: {}\" \\\n",
    "    .format(available_raagas[0], raaga_dict[available_raagas[0]]))"
   ]
  },
  {
   "cell_type": "markdown",
   "metadata": {},
   "source": [
    "Cool! However... how about the actual audio and annotations? Let us show how easy is to load the data for a track in the dataset:"
   ]
  },
  {
   "cell_type": "code",
   "execution_count": null,
   "metadata": {},
   "outputs": [],
   "source": [
    "from IPython.display import Audio\n",
    "\n",
    "## Selecting a track for a particular raaga\n",
    "example_track = raaga_dict[available_raagas[0]][0]\n",
    "\n",
    "## Loading audio directly from track\n",
    "audio, sr = example_track.audio\n",
    "\n",
    "## Loading audio from track methods\n",
    "audio_path = example_track.audio_path  # Audio path of recording\n",
    "audio_2, sr_2 = example_track.load_audio(audio_path)  # Loading audio\n",
    "\n",
    "assert audio == audio\n",
    "assert sr == sr_2\n",
    "\n",
    "Audio(audio, rate=sr)"
   ]
  },
  {
   "cell_type": "markdown",
   "metadata": {},
   "source": [
    "TODO: Get now some other data... pitch, sections..."
   ]
  },
  {
   "cell_type": "code",
   "execution_count": null,
   "metadata": {},
   "outputs": [],
   "source": []
  }
 ],
 "metadata": {
  "kernelspec": {
   "display_name": "Python 3.9.4 64-bit",
   "language": "python",
   "name": "python3"
  },
  "language_info": {
   "codemirror_mode": {
    "name": "ipython",
    "version": 3
   },
   "file_extension": ".py",
   "mimetype": "text/x-python",
   "name": "python",
   "nbconvert_exporter": "python",
   "pygments_lexer": "ipython3",
   "version": "3.9.4"
  },
  "orig_nbformat": 4,
  "vscode": {
   "interpreter": {
    "hash": "aee8b7b246df8f9039afb4144a1f6fd8d2ca17a180786b69acc140d282b71a49"
   }
  }
 },
 "nbformat": 4,
 "nbformat_minor": 2
}
