{
 "cells": [
  {
   "cell_type": "markdown",
   "metadata": {},
   "source": [
    "(datasets)=\n",
    "# Datasets\n",
    "\n",
    "Intro here\n",
    "\n",
    "## `mirdata`\n",
    "[mirdata](https://mirdata.readthedocs.io/en/stable/) is an open-source and pip-installable Python library that provides tools for working with common Music Information Retrieval (MIR) datasets. Given the crucial importance and relevance of such a software for data and corpus-driven research, we have done a great effort integrating several IAM-centered datasets in mirdata. To date, the following datasets can be found in the latest mirdata release:\n",
    "\n",
    "* Carnatic collection of Saraga [x]\n",
    "* Hindustani collection of Saraga [x]\n",
    "* Carnatic Varnam Dataset [x]\n",
    "* Carnatic Music Rhythm [x]\n",
    "* Hindustani Music Rhythm [x]\n",
    "* Indian Art Music Raga Dataset [x]\n",
    "* Mridangam Stroke Dataset [x]\n",
    "* Four-Way Tabla Dataset (ISMIR 2021) [x]\n",
    "\n",
    "compIAM provides access to these datasets through the mirdata loaders. Therefore, by using an alias of mirdata method ``mirdata.initialize()`` as ``compiam.initialize()`` you can also access the datasets integrated to mirdata!"
   ]
  },
  {
   "cell_type": "code",
   "execution_count": null,
   "metadata": {},
   "outputs": [],
   "source": [
    "%%capture\n",
    "%pip install mirdata"
   ]
  },
  {
   "cell_type": "code",
   "execution_count": null,
   "metadata": {},
   "outputs": [],
   "source": [
    "import mirdata\n",
    "saraga_carnatic = mirdata.initialize(\"saraga_carnatic\")\n",
    "saraga_carnatic"
   ]
  }
 ],
 "metadata": {
  "kernelspec": {
   "display_name": "Python 3.9.4 64-bit",
   "language": "python",
   "name": "python3"
  },
  "language_info": {
   "codemirror_mode": {
    "name": "ipython",
    "version": 3
   },
   "file_extension": ".py",
   "mimetype": "text/x-python",
   "name": "python",
   "nbconvert_exporter": "python",
   "pygments_lexer": "ipython3",
   "version": "3.9.4"
  },
  "orig_nbformat": 4,
  "vscode": {
   "interpreter": {
    "hash": "aee8b7b246df8f9039afb4144a1f6fd8d2ca17a180786b69acc140d282b71a49"
   }
  }
 },
 "nbformat": 4,
 "nbformat_minor": 2
}
