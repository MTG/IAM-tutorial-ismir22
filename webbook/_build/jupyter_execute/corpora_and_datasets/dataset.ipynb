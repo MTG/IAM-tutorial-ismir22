{
 "cells": [
  {
   "cell_type": "markdown",
   "metadata": {},
   "source": [
    "(datasets)=\n",
    "# Datasets\n",
    "\n",
    "Intro here\n",
    "\n",
    "## `mirdata`\n",
    "[mirdata](https://mirdata.readthedocs.io/en/stable/) is an open-source and pip-installable Python library that provides tools for working with common Music Information Retrieval (MIR) datasets. Given the crucial importance and relevance of such a software for data and corpus-driven research, we have done a great effort integrating several IAM-centered datasets in mirdata. To date, the following datasets can be found in the latest mirdata release:\n",
    "\n",
    "* Carnatic collection of Saraga [x]\n",
    "* Hindustani collection of Saraga [x]\n",
    "* Carnatic Varnam Dataset [x]\n",
    "* Carnatic Music Rhythm [x]\n",
    "* Hindustani Music Rhythm [x]\n",
    "* Indian Art Music Raga Dataset [x]\n",
    "* Mridangam Stroke Dataset [x]\n",
    "* Four-Way Tabla Dataset (ISMIR 2021) [x]\n",
    "\n",
    "compIAM provides access to these datasets through the mirdata loaders. Therefore, by using an alias of mirdata method ``mirdata.initialize()`` as ``compiam.initialize()`` you can also access the datasets integrated to mirdata!"
   ]
  },
  {
   "cell_type": "code",
   "execution_count": 1,
   "metadata": {},
   "outputs": [],
   "source": [
    "%%capture\n",
    "%pip install mirdata"
   ]
  },
  {
   "cell_type": "code",
   "execution_count": 2,
   "metadata": {},
   "outputs": [
    {
     "data": {
      "text/plain": [
       "The saraga_carnatic dataset\n",
       "----------------------------------------------------------------------------------------------------\n",
       "\n",
       "\n",
       "Call the .cite method for bibtex citations.\n",
       "----------------------------------------------------------------------------------------------------\n",
       "\n",
       "\n",
       "Saraga Track Carnatic class\n",
       "\n",
       "    Args:\n",
       "        track_id (str): track id of the track\n",
       "        data_home (str): Local path where the dataset is stored. default=None\n",
       "            If `None`, looks for the data in the default directory, `~/mir_datasets`\n",
       "\n",
       "    Attributes:\n",
       "        audio_path (str): path to audio file\n",
       "        audio_ghatam_path (str): path to ghatam audio file\n",
       "        audio_mridangam_left_path (str): path to mridangam left audio file\n",
       "        audio_mridangam_right_path (str): path to mridangam right audio file\n",
       "        audio_violin_path (str): path to violin audio file\n",
       "        audio_vocal_s_path (str): path to vocal s audio file\n",
       "        audio_vocal_pat (str): path to vocal pat audio file\n",
       "        ctonic_path (srt): path to ctonic annotation file\n",
       "        pitch_path (srt): path to pitch annotation file\n",
       "        pitch_vocal_path (srt): path to vocal pitch annotation file\n",
       "        tempo_path (srt): path to tempo annotation file\n",
       "        sama_path (srt): path to sama annotation file\n",
       "        sections_path (srt): path to sections annotation file\n",
       "        phrases_path (srt): path to phrases annotation file\n",
       "        metadata_path (srt): path to metadata file\n",
       "\n",
       "    Cached Properties:\n",
       "        tonic (float): tonic annotation\n",
       "        pitch (F0Data): pitch annotation\n",
       "        pitch_vocal (F0Data): vocal pitch annotation\n",
       "        tempo (dict): tempo annotations\n",
       "        sama (BeatData): sama section annotations\n",
       "        sections (SectionData): track section annotations\n",
       "        phrases (SectionData): phrase annotations\n",
       "        metadata (dict): track metadata with the following fields:\n",
       "\n",
       "            - title (str): Title of the piece in the track\n",
       "            - mbid (str): MusicBrainz ID of the track\n",
       "            - album_artists (list, dicts): list of dicts containing the album artists present in the track and its mbid\n",
       "            - artists (list, dicts): list of dicts containing information of the featuring artists in the track\n",
       "            - raaga (list, dict): list of dicts containing information about the raagas present in the track\n",
       "            - form (list, dict): list of dicts containing information about the forms present in the track\n",
       "            - work (list, dicts): list of dicts containing the work present in the piece, and its mbid\n",
       "            - taala (list, dicts): list of dicts containing the talas present in the track and its uuid\n",
       "            - concert (list, dicts): list of dicts containing the concert where the track is present and its mbid\n",
       "\n",
       "    ----------------------------------------------------------------------------------------------------"
      ]
     },
     "execution_count": 2,
     "metadata": {},
     "output_type": "execute_result"
    }
   ],
   "source": [
    "import mirdata\n",
    "saraga_carnatic = mirdata.initialize(\"saraga_carnatic\")\n",
    "saraga_carnatic"
   ]
  }
 ],
 "metadata": {
  "kernelspec": {
   "display_name": "Python 3.9.4 64-bit",
   "language": "python",
   "name": "python3"
  },
  "language_info": {
   "codemirror_mode": {
    "name": "ipython",
    "version": 3
   },
   "file_extension": ".py",
   "mimetype": "text/x-python",
   "name": "python",
   "nbconvert_exporter": "python",
   "pygments_lexer": "ipython3",
   "version": "3.9.4"
  },
  "vscode": {
   "interpreter": {
    "hash": "aee8b7b246df8f9039afb4144a1f6fd8d2ca17a180786b69acc140d282b71a49"
   }
  }
 },
 "nbformat": 4,
 "nbformat_minor": 2
}