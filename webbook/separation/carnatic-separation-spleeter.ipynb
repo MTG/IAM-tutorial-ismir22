{
 "cells": [
  {
   "cell_type": "markdown",
   "metadata": {},
   "source": [
    "(carnatic-separation-spleeter)=\n",
    "## Spleeter (by Deezer) for Carnatic Music\n",
    "\n",
    "One main model in the literature is Spleeter {cite}`spleeter`, which is broadly used in many computational musicology works for the Carnatic repertoire. "
   ]
  },
  {
   "cell_type": "code",
   "execution_count": null,
   "metadata": {
    "tags": [
     "remove-output"
    ]
   },
   "outputs": [],
   "source": [
    "%pip install spleeter\n",
    "%pip install numba --upgrade\n",
    "import spleeter"
   ]
  },
  {
   "cell_type": "markdown",
   "metadata": {},
   "source": [
    "We download the latest Spleeter pre-trained model in the official repository."
   ]
  },
  {
   "cell_type": "code",
   "execution_count": null,
   "metadata": {
    "tags": [
     "remove-output"
    ]
   },
   "outputs": [],
   "source": [
    "!wget https://github.com/deezer/spleeter/releases/download/v1.4.0/2stems.tar.gz"
   ]
  },
  {
   "cell_type": "markdown",
   "metadata": {},
   "source": [
    "We unzip it!"
   ]
  },
  {
   "cell_type": "code",
   "execution_count": null,
   "metadata": {},
   "outputs": [],
   "source": [
    "import os\n",
    "import tarfile\n",
    "\n",
    "# Open file\n",
    "file = tarfile.open(\"2stems.tar.gz\")\n",
    "\n",
    "# Creating directory where spleeter looks for models by default\n",
    "os.mkdir(\"pretrained_models/\")\n",
    "\n",
    "# Extracting files in tar\n",
    "file.extractall(\n",
    "    os.path.join(\"pretrained_models\", \"2stems\")\n",
    ")\n",
    "\n",
    "# Closing file\n",
    "file.close()"
   ]
  },
  {
   "cell_type": "markdown",
   "metadata": {},
   "source": [
    "`spleeter` is based on `TensorFlow`. We disable the GPU usage and the `TensorFlow` related warnings just like we did in the [pitch extraction walkthrough](melody-extraction)."
   ]
  },
  {
   "cell_type": "code",
   "execution_count": null,
   "metadata": {},
   "outputs": [],
   "source": [
    "# Disabling tensorflow warnings and debugging info\n",
    "import os \n",
    "os.environ[\"TF_CPP_MIN_LOG_LEVEL\"] = \"3\" \n",
    "\n",
    "# Importing tensorflow and disabling GPU usage\n",
    "import tensorflow as tf\n",
    "tf.config.set_visible_devices([], \"GPU\")"
   ]
  },
  {
   "cell_type": "markdown",
   "metadata": {},
   "source": [
    "We may now load the `spleeter` separator, which will automatically load the pre-trained weights for the model. We will use the ``2:stems`` model, which has been trained to separate *vocals* and *accompaniment*.\n",
    "\n",
    "```{note}\n",
    "The other option, which is the ``4:stems``, separates *vocals*, *bass*, *drums*, and *other*, does not properly apply to the case of Carnatic Music.\n",
    "```\n",
    "\n",
    "Let's reproduce the separated files using `IPython display`. "
   ]
  },
  {
   "cell_type": "code",
   "execution_count": null,
   "metadata": {
    "tags": [
     "remove-output"
    ]
   },
   "outputs": [],
   "source": [
    "from spleeter.separator import Separator\n",
    "\n",
    "# Load default 2-stem spleeter separation\n",
    "separator = Separator(\"spleeter:2stems\")"
   ]
  },
  {
   "cell_type": "markdown",
   "metadata": {},
   "source": [
    "Let's iterate over a few examples to analyze how the system performs. "
   ]
  },
  {
   "cell_type": "code",
   "execution_count": null,
   "metadata": {
    "tags": [
     "remove-output"
    ]
   },
   "outputs": [],
   "source": [
    "import glob\n",
    "import soundfile as sf\n",
    "import IPython.display as ipd\n",
    "separation_examples = glob.glob(\"../audio/separation/*.mp3\")\n",
    "\n",
    "for ex in separation_examples:\n",
    "    input_mixture, sr = sf.read(ex)\n",
    "    input_mixture = input_mixture.T\n",
    "    input_mixture = input_mixture[:, :44100*30]\n",
    "    # Running spleeter\n",
    "    separation = separator.separate(ex)\n",
    "    # Saving the results\n",
    "    song_name = ex.split(\"/\")[-1].replace(\".mp3\", \"\")\n",
    "    sf.write(\n",
    "        os.path.join(\"..\", \"audio\", \"separation\", \"spleeter\", song_name, \"vocals.wav\"),\n",
    "        separation[\"vocals\"].T,\n",
    "        sr\n",
    "    )\n",
    "\n",
    "separated_files = glob.glob(\"../audio/separation/spleeter/*/vocals.wav\")"
   ]
  },
  {
   "cell_type": "code",
   "execution_count": null,
   "metadata": {},
   "outputs": [],
   "source": [
    "print(\"Separation:\", separated_files[0])\n",
    "audio, sr = sf.read(separated_files[0])\n",
    "audio = audio.T\n",
    "ipd.Audio(audio[:, :sr*30], rate=sr)"
   ]
  },
  {
   "cell_type": "code",
   "execution_count": null,
   "metadata": {},
   "outputs": [],
   "source": [
    "print(\"Separation:\", separated_files[1])\n",
    "audio, sr = sf.read(separated_files[1])\n",
    "audio = audio.T\n",
    "ipd.Audio(audio[:, :sr*30], rate=sr)"
   ]
  },
  {
   "cell_type": "code",
   "execution_count": null,
   "metadata": {},
   "outputs": [],
   "source": [
    "print(\"Separation:\", separated_files[2])\n",
    "audio, sr = sf.read(separated_files[2])\n",
    "audio = audio.T\n",
    "ipd.Audio(audio[:, :sr*30], rate=sr)"
   ]
  },
  {
   "cell_type": "code",
   "execution_count": null,
   "metadata": {},
   "outputs": [],
   "source": [
    "print(\"Separation:\", separated_files[3])\n",
    "audio, sr = sf.read(separated_files[3])\n",
    "audio = audio.T\n",
    "ipd.Audio(audio[:, :sr*30], rate=sr)"
   ]
  },
  {
   "cell_type": "code",
   "execution_count": null,
   "metadata": {},
   "outputs": [],
   "source": [
    "print(\"Separation:\", separated_files[4])\n",
    "audio, sr = sf.read(separated_files[4])\n",
    "audio = audio.T\n",
    "ipd.Audio(audio[:, :sr*30], rate=sr)"
   ]
  },
  {
   "cell_type": "code",
   "execution_count": null,
   "metadata": {},
   "outputs": [],
   "source": [
    "print(\"Separation:\", separated_files[5])\n",
    "audio, sr = sf.read(separated_files[5])\n",
    "audio = audio.T\n",
    "ipd.Audio(audio[:, :sr*30], rate=sr)"
   ]
  },
  {
   "cell_type": "code",
   "execution_count": null,
   "metadata": {},
   "outputs": [],
   "source": [
    "print(\"Separation:\", separated_files[6])\n",
    "audio, sr = sf.read(separated_files[6])\n",
    "audio = audio.T\n",
    "ipd.Audio(audio[:, :sr*30], rate=sr)"
   ]
  }
 ],
 "metadata": {
  "kernelspec": {
   "display_name": "Python 3.9.4 64-bit",
   "language": "python",
   "name": "python3"
  },
  "language_info": {
   "name": "python",
   "version": "3.11.6"
  },
  "orig_nbformat": 4,
  "vscode": {
   "interpreter": {
    "hash": "aee8b7b246df8f9039afb4144a1f6fd8d2ca17a180786b69acc140d282b71a49"
   }
  }
 },
 "nbformat": 4,
 "nbformat_minor": 2
}
