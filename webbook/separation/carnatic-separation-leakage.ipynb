{
 "cells": [
  {
   "cell_type": "markdown",
   "metadata": {},
   "source": [
    "(carnatic-separation-leakage)=\n",
    "## Leakage-aware source separation model\n",
    "\n",
    "In this section we walkthrough a tool that has been trained using the {cite}`saraga`. Given the live performance nature of Carnatic Music, it is difficult, in fact current impossible, to find fully-isolated multi-stem recordings to train or fine-tune existing separation approaches. Saraga includes multi-stem recordings, but these have source bleeding in the background, since these have been recorded in live performances. In this section we present an approach that has been designed having the bleeding problem in mind.\n",
    "\n",
    "This model is able to separate clean singing voices even though it has been solely trained with data that have bleeding in the multi-track stems. Let's test how it works in a real example. Since the model is DL-based, we first need to install tensorflow."
   ]
  },
  {
   "cell_type": "code",
   "execution_count": null,
   "metadata": {
    "tags": [
     "remove-output"
    ]
   },
   "outputs": [],
   "source": [
    "## Installing (if not) and importing compiam to the project\n",
    "import importlib.util\n",
    "if importlib.util.find_spec('compiam') is None:\n",
    "    ## Bear in mind this will only run in a jupyter notebook / Collab session\n",
    "    %pip install compiam\n",
    "import compiam\n",
    "from compiam import load_model\n",
    "\n",
    "# Import extras and supress warnings to keep the tutorial clean\n",
    "import os\n",
    "import numpy as np\n",
    "import soundfile as sf\n",
    "from pprint import pprint\n",
    "\n",
    "import warnings\n",
    "warnings.filterwarnings('ignore')\n",
    "\n",
    "# Installing and importing tensorflow in case is not installed\n",
    "%pip install tensorflow\n",
    "%pip install tensorflow_addons\n",
    "import tensorflow as tf\n",
    "import tensorflow_addons as tfa"
   ]
  },
  {
   "cell_type": "code",
   "execution_count": null,
   "metadata": {},
   "outputs": [],
   "source": [
    "# Initializing a melodia instance\n",
    "separation_model = load_model('separation:cold-diff-sep')\n",
    "\n",
    "# We load the same example\n",
    "audio_path = os.path.join(\n",
    "    \"..\", \"audio\", \"59c88c32-0bde-433b-b194-0f65281e5714.mp3\")\n",
    "input_mixture, sr = sf.read(audio_path)\n",
    "\n",
    "input_mixture = input_mixture.T\n",
    "mean = np.mean(input_mixture, keepdims=True)\n",
    "std = np.std(input_mixture, keepdims=True)\n",
    "input_mixture = (input_mixture - mean) / (1e-6 + std)"
   ]
  },
  {
   "cell_type": "code",
   "execution_count": null,
   "metadata": {},
   "outputs": [],
   "source": [
    "### Getting 20 seconds and separating\n",
    "input_mixture = input_mixture[:, -44100*30:]\n",
    "separation = separation_model.separate(\n",
    "    input_data=input_mixture,\n",
    "    input_sr=sr,\n",
    "    clusters=6,\n",
    "    scheduler=5,\n",
    ")"
   ]
  },
  {
   "cell_type": "code",
   "execution_count": null,
   "metadata": {},
   "outputs": [],
   "source": [
    "import IPython.display as ipd\n",
    "\n",
    "# And we play it!\n",
    "ipd.Audio(\n",
    "    data=separation,\n",
    "    rate=separation_model.sample_rate,\n",
    ")"
   ]
  },
  {
   "cell_type": "markdown",
   "metadata": {},
   "source": [
    "Although perceptible artifacts in the vocals can be heard, the separation is surprisingly clean, hopefully helping musicians and musicologists to extract relevant information for it. Also, less pitched noise is present in the signal so melodic feature extraction systems may work better on these data rather than in a complete mixture or in a singing voice with source bleeding in the background.\n",
    "\n",
    "Let's now listen to the separation on some example recordings from the Dunya corpora."
   ]
  },
  {
   "cell_type": "code",
   "execution_count": null,
   "metadata": {
    "tags": [
     "remove-output"
    ]
   },
   "outputs": [],
   "source": [
    "import glob\n",
    "import soundfile as sf\n",
    "separation_examples = glob.glob(\"../audio/separation/*.mp3\")\n",
    "\n",
    "for ex in separation_examples:\n",
    "    input_mixture, sr = sf.read(ex)\n",
    "    input_mixture = input_mixture.T\n",
    "    input_mixture = input_mixture[:, :44100*30]\n",
    "    mean = np.mean(input_mixture, keepdims=True)\n",
    "    std = np.std(input_mixture, keepdims=True)\n",
    "    input_mixture = (input_mixture - mean) / (1e-6 + std)\n",
    "    # Running leakage-aware model\n",
    "    leakage_aware_separation = separation_model.separate(\n",
    "        input_data=input_mixture,\n",
    "        input_sr=sr,\n",
    "        clusters=6,\n",
    "        scheduler=5,\n",
    "    )\n",
    "    # Saving the results\n",
    "    song_name = ex.split(\"/\")[-1].replace(\".mp3\", \"\")\n",
    "    sf.write(\n",
    "        os.path.join(\"..\", \"audio\", \"separation\", song_name, \"vocals.wav\"),\n",
    "        leakage_aware_separation.T,\n",
    "        sr\n",
    "    )\n",
    "\n",
    "separated_files = glob.glob(\"../audio/separation/leakage/*/vocals.wav\")"
   ]
  },
  {
   "cell_type": "code",
   "execution_count": null,
   "metadata": {},
   "outputs": [],
   "source": [
    "print(\"Separation:\", separated_files)[0]\n",
    "ipd.Audio(separated_files[0], rate=sr)"
   ]
  },
  {
   "cell_type": "code",
   "execution_count": null,
   "metadata": {},
   "outputs": [],
   "source": [
    "print(\"Separation:\", separated_files)[1]\n",
    "ipd.Audio(separated_files[1], rate=sr)"
   ]
  },
  {
   "cell_type": "code",
   "execution_count": null,
   "metadata": {},
   "outputs": [],
   "source": [
    "print(\"Separation:\", separated_files)[2]\n",
    "ipd.Audio(separated_files[2], rate=sr)"
   ]
  },
  {
   "cell_type": "code",
   "execution_count": null,
   "metadata": {},
   "outputs": [],
   "source": [
    "print(\"Separation:\", separated_files)[3]\n",
    "ipd.Audio(separated_files[3], rate=sr)"
   ]
  },
  {
   "cell_type": "code",
   "execution_count": null,
   "metadata": {},
   "outputs": [],
   "source": [
    "print(\"Separation:\", separated_files)[4]\n",
    "ipd.Audio(separated_files[4], rate=sr)"
   ]
  },
  {
   "cell_type": "code",
   "execution_count": null,
   "metadata": {},
   "outputs": [],
   "source": [
    "print(\"Separation:\", separated_files)[5]\n",
    "ipd.Audio(separated_files[5], rate=sr)"
   ]
  },
  {
   "cell_type": "code",
   "execution_count": null,
   "metadata": {},
   "outputs": [],
   "source": [
    "print(\"Separation:\", separated_files)[6]\n",
    "ipd.Audio(separated_files[6], rate=sr)"
   ]
  }
 ],
 "metadata": {
  "kernelspec": {
   "display_name": "Python 3.9.4 64-bit",
   "language": "python",
   "name": "python3"
  },
  "language_info": {
   "name": "python",
   "version": "3.11.6"
  },
  "orig_nbformat": 4,
  "vscode": {
   "interpreter": {
    "hash": "aee8b7b246df8f9039afb4144a1f6fd8d2ca17a180786b69acc140d282b71a49"
   }
  }
 },
 "nbformat": 4,
 "nbformat_minor": 2
}
