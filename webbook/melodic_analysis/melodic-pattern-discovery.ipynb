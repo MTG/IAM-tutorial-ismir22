{
 "cells": [
  {
   "cell_type": "markdown",
   "metadata": {},
   "source": [
    "(melodic-pattern-discovery)=\n",
    "# Melodic pattern dicovery\n",
    "\n",
    "Melodic pattern discovery is a core task within the melodic analysis of Indian Art Music, most of the approaches building on top of time-series of pitch {cite}`ishwar_patterns_2013, rao_patterns_2014, gulati_patterns_2015, gulati_patterns_2016, gulati_patterns_2016_2`. In fact, {cite}`velankar_patterns_2018` reviews the melodic recognition task in Carnatic Music and concludes that using pitch data drives to better performance. On the same line, a musically-relevant statistical analysis of melodic patterns is proposed in {cite}`viraraghavan_patterns_2017`, aiming at providing a more handy representation of this important aspect for Carnatic and Hindustani Music. \n",
    "\n",
    "More recently, the task of melodic pattern discovery has been approached taking advantage of DL techniques by combining the learnt features from a complex autoencoder and an attention-based vocal pitch extraction model {cite}`nuttall_patterns_2022b`. Multiple design choices of this entire process are informed by tradition characteristics."
   ]
  }
 ],
 "metadata": {
  "kernelspec": {
   "display_name": "Python 3.9.4 64-bit",
   "language": "python",
   "name": "python3"
  },
  "language_info": {
   "name": "python",
   "version": "3.9.4"
  },
  "orig_nbformat": 4,
  "vscode": {
   "interpreter": {
    "hash": "aee8b7b246df8f9039afb4144a1f6fd8d2ca17a180786b69acc140d282b71a49"
   }
  }
 },
 "nbformat": 4,
 "nbformat_minor": 2
}
