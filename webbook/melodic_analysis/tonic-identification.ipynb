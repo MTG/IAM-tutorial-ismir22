{
 "cells": [
  {
   "cell_type": "markdown",
   "metadata": {},
   "source": [
    "(tonic-identification)=\n",
    "# Tonic identification\n",
    "\n",
    "As a common step in the walkthroughs in this tutorial, let us first start by installing and importing the latest released version of ``compiam``.\n",
    "\n",
    "```{note}\n",
    "All notebooks in this tutorial are meant to be standalone. Therefore, for each tool walkthrough we will install and import `compiam`.\n",
    "```\n"
   ]
  },
  {
   "cell_type": "code",
   "execution_count": null,
   "metadata": {},
   "outputs": [],
   "source": [
    "%%capture\n",
    "%pip install compiam\n",
    "\n",
    "import compiam\n",
    "from compiam.melody import TonicIndianMultiPitch"
   ]
  },
  {
   "cell_type": "code",
   "execution_count": null,
   "metadata": {},
   "outputs": [],
   "source": [
    "# We first initialize the tool we have just imported\n",
    "tonic_multipitch = TonicIndianMultiPitch()\n",
    "\n",
    "# Let's first see the specific attributes of this tool\n",
    "attributes = [x for x in dir(tonic_multipitch) if \"__\" not in x]\n",
    "print(attributes)"
   ]
  },
  {
   "cell_type": "markdown",
   "metadata": {},
   "source": [
    "We observe a long list of attributes for this tool. That is because this is an **extractor**. Within the context of this tutorial, we use this concept to refer to **heuristic-based** tools that extract or compute a particular representation from a music signal. In this case, the tonic of the input musical recording. Heuristic-based approaches are commonly tuned by a list of particular parameter, which can be tuned to improve the performance for particular cases."
   ]
  },
  {
   "cell_type": "code",
   "execution_count": null,
   "metadata": {},
   "outputs": [],
   "source": [
    "# We can print out the standard value for a particular parameters\n",
    "tonic_multipitch.TODO"
   ]
  }
 ],
 "metadata": {
  "kernelspec": {
   "display_name": "Python 3.9.4 64-bit",
   "language": "python",
   "name": "python3"
  },
  "language_info": {
   "name": "python",
   "version": "3.9.4"
  },
  "orig_nbformat": 4,
  "vscode": {
   "interpreter": {
    "hash": "aee8b7b246df8f9039afb4144a1f6fd8d2ca17a180786b69acc140d282b71a49"
   }
  }
 },
 "nbformat": 4,
 "nbformat_minor": 2
}
