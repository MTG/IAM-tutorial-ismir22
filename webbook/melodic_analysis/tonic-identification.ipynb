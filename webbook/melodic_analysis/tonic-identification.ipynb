{
 "cells": [
  {
   "cell_type": "markdown",
   "metadata": {},
   "source": [
    "(tonic-identification)=\n",
    "# Tonic identification\n",
    "As mentioned in the [introduction of the tambūrā drone](carnatic-tambura-drone), the sa played by the tambūrā is very important from a computational analysis point of view, because it provides information to locate the sa of the melody (and also the rest of svāras in the rāga), while it is also veru useful to normalise the melodic lines for better information processing. \n",
    "\n",
    "```{note}\n",
    "Despite no term as \"tonic\" exists in Indian Art Music, it is used in the literature to refer to the task of tonic identification.\n",
    "```\n",
    "\n",
    "Let us first start by installing and importing the latest released version of ``compiam``.\n",
    "\n",
    "```{important}\n",
    "You need to have `compiam` installed to execute the walkthroughs of this tutorial in your machine or in the cloud using, for instance, Google Collab. Make sure you install `compiam` by running: ``pip install compiam``. You can run command line functions from a notebook by writing a `%` or `!` at the beginning of the command, e.g. ``%pip install compiam``.\n",
    "```"
   ]
  },
  {
   "cell_type": "code",
   "execution_count": null,
   "metadata": {
    "tags": [
     "remove-output"
    ]
   },
   "outputs": [],
   "source": [
    "## Importing compiam to the project\n",
    "import compiam\n",
    "\n",
    "# Import extras and supress warnings to keep the tutorial clean\n",
    "from pprint import pprint\n",
    "import warnings\n",
    "warnings.filterwarnings('ignore')"
   ]
  },
  {
   "cell_type": "markdown",
   "metadata": {},
   "source": [
    "Let's list the available tools in `compiam` to perform tonic identification."
   ]
  },
  {
   "cell_type": "code",
   "execution_count": null,
   "metadata": {},
   "outputs": [],
   "source": [
    "compiam.melody.tonic_identification.list_tools()"
   ]
  },
  {
   "cell_type": "code",
   "execution_count": null,
   "metadata": {
    "tags": []
   },
   "outputs": [],
   "source": [
    "# Importing the tool\n",
    "from compiam.melody.tonic_identification import TonicIndianMultiPitch\n",
    "\n",
    "# We first initialize the tool we have just imported\n",
    "tonic_multipitch = TonicIndianMultiPitch()"
   ]
  },
  {
   "cell_type": "markdown",
   "metadata": {},
   "source": [
    "**We observe that an error shows up:** we need `essentia` to use this tool, and `essentia` is an optional dependency that is not installed by default.\n",
    "\n",
    "Let's install essentia and re-import the tool."
   ]
  },
  {
   "cell_type": "code",
   "execution_count": null,
   "metadata": {
    "tags": [
     "remove-output"
    ]
   },
   "outputs": [],
   "source": [
    "%pip install essentia"
   ]
  },
  {
   "cell_type": "code",
   "execution_count": null,
   "metadata": {},
   "outputs": [],
   "source": [
    "# We initialize the tool again\n",
    "tonic_multipitch = TonicIndianMultiPitch()\n",
    "\n",
    "# Let's first see the specific attributes of this tool\n",
    "attributes = [x for x in dir(tonic_multipitch) if \"__\" not in x]\n",
    "pprint(attributes)"
   ]
  },
  {
   "cell_type": "markdown",
   "metadata": {},
   "source": [
    "We observe a long list of attributes for this tool. That is because this is an **extractor**. Within the context of this tutorial, we use this concept to refer to **heuristic-based** tools that extract or compute a particular representation from a music signal. In this case, the tonic of the input musical recording. Heuristic-based approaches are commonly tuned by a list of particular parameters, which can be tuned to improve the performance for particular cases."
   ]
  },
  {
   "cell_type": "code",
   "execution_count": null,
   "metadata": {},
   "outputs": [],
   "source": [
    "# We can print out the standard value for a particular parameter\n",
    "tonic_multipitch.minTonicFrequency"
   ]
  },
  {
   "cell_type": "markdown",
   "metadata": {},
   "source": [
    "Let's now load the CompMusic Indian Art Music Tonic dataset to evaluate the performance of this approach."
   ]
  },
  {
   "cell_type": "code",
   "execution_count": null,
   "metadata": {},
   "outputs": [],
   "source": [
    "# Loading Tonic dataset using the mirdata loader\n",
    "tonic_dataset = compiam.load_dataset(\"compmusic_indian_tonic\", data_home=\"./workspace/\")\n",
    "tonic_dataset.download()\n",
    "tonic_dataset.validate()"
   ]
  },
  {
   "cell_type": "markdown",
   "metadata": {},
   "source": [
    "Right! We now have the dataset. Unfortunately, we observe that the audio tracks for this collections are not openly available but only shared under explicit request. \n",
    "\n",
    "**However that is not a problem!** Possible solutions: \n",
    "* You may request the audios as follow the instructions on the dataloader to have them considered.\n",
    "* Otherwise, if available, you may get the audios from the Dunya database.\n",
    "\n",
    "Accessing the data in Dunya requires you to have a unique and non-shareable access token. For that reason, we cannot provide an interactive walkthrough of how to parse audio examples from Dunya.\n",
    "\n",
    "**Not a problem though!** We list here an example code block that may be run to parse audio from Dunya, and we provide, within the tutorial materials, a couple of audio excerpts to show you through the available tools.\n",
    "\n",
    "```{note}\n",
    "You can get a random recording from the dataloader using ``dataset.choice_track()``. \n",
    "```"
   ]
  },
  {
   "cell_type": "code",
   "execution_count": null,
   "metadata": {},
   "outputs": [],
   "source": [
    "random_track = tonic_dataset.choice_track()\n",
    "\n",
    "# We can print the mbid from the randomly chosen track\n",
    "print(random_track.mbid)"
   ]
  },
  {
   "cell_type": "markdown",
   "metadata": {},
   "source": [
    "Having a MusicBrainz ID at hand, we could a code snippet, as the example below, to get the audio from the Dunya database.\n",
    "\n",
    "```python\n",
    "import compiam\n",
    "carnatic_corpora = compiam.load_corpora(\"carnatic\", cc=True, token=\"<your-token-goes-here>\")\n",
    "print(carnatic_corpora.get_collection())  # Print out the available recordings in the database\n",
    "print(carnatic_corpora.get_recording(\"<mbid>\"))  # Print out available data for specific track\n",
    "carnatic_corpora.download_mp3(\"<mbid>\", \"<path/to/save\")  # Download and save mp3 audio for particular track\n",
    "```\n",
    "\n",
    "```{important}\n",
    "Please keep in mind that not all recordings in Dunya can be downloaded with a regular token. You may need to request access through the Dunya website in order to get your token upgraded and get access to the restricted (see the [Section about accessing the Dunya corpora](dunya-python-api)).\n",
    "```"
   ]
  },
  {
   "cell_type": "markdown",
   "metadata": {},
   "source": [
    "Let's select a couple of random recordings from the Indian Art Music Tonic dataset to extract the tonic from."
   ]
  }
 ],
 "metadata": {
  "kernelspec": {
   "display_name": "Python 3.9.4 64-bit",
   "language": "python",
   "name": "python3"
  },
  "language_info": {
   "name": "python",
   "version": "3.9.4"
  },
  "orig_nbformat": 4,
  "vscode": {
   "interpreter": {
    "hash": "aee8b7b246df8f9039afb4144a1f6fd8d2ca17a180786b69acc140d282b71a49"
   }
  }
 },
 "nbformat": 4,
 "nbformat_minor": 2
}
