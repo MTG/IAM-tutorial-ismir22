{
 "cells": [
  {
   "cell_type": "markdown",
   "metadata": {},
   "source": [
    "(melody-extraction)=\n",
    "# Pitch extraction\n",
    "\n",
    "As seen in the melodic introduction, predominant and vocal pitch is a very relevant feature to tackle the melodic analysis of Carnatic and Hindustani Music. In an Indian Art Music context, this task has been mainly approached through *heuristic-based approaches*{cite}`rao_pitch_2010, salamon_pitch_2012`, which have been used yet in recent years.\n",
    "Let's extract the pitch from an audio sample using Melodia{cite}`salamon_pitch_2012`."
   ]
  },
  {
   "cell_type": "code",
   "execution_count": null,
   "metadata": {},
   "outputs": [],
   "source": [
    "%%capture\n",
    "%pip install compiam\n",
    "\n",
    "import compiam"
   ]
  },
  {
   "cell_type": "code",
   "execution_count": null,
   "metadata": {},
   "outputs": [],
   "source": [
    "from compiam.melody import Melodia\n",
    "melodia = Melodia()  # initializing a melodia instance\n",
    "pitch_track = melodia.extract(\"/path/to/audio\")\n"
   ]
  },
  {
   "cell_type": "markdown",
   "metadata": {},
   "source": [
    "Melodia has been found to decently work on Indian Art Music samples (cite MIREX?). However, recent DL-based models have claimed the state-of-the-art for the task of pitch extraction. Maybe we can use a Carnatic-trained version of one of these models to extract the pitch?"
   ]
  },
  {
   "cell_type": "code",
   "execution_count": null,
   "metadata": {},
   "outputs": [],
   "source": [
    "from compiam.melody import FTANetCarnatic\n",
    "ftanet_carnatic = FTANetCarnatic()  # initializing a melodia instance\n",
    "pitch_track = ftanet_carnatic.extract(\"/path/to/audio\")"
   ]
  },
  {
   "cell_type": "markdown",
   "metadata": {},
   "source": [
    "TODO: Plot pitch curves on top of spectrogram of audio example?"
   ]
  }
 ],
 "metadata": {
  "kernelspec": {
   "display_name": "Python 3.9.4 64-bit",
   "language": "python",
   "name": "python3"
  },
  "language_info": {
   "name": "python",
   "version": "3.9.4"
  },
  "orig_nbformat": 4,
  "vscode": {
   "interpreter": {
    "hash": "aee8b7b246df8f9039afb4144a1f6fd8d2ca17a180786b69acc140d282b71a49"
   }
  }
 },
 "nbformat": 4,
 "nbformat_minor": 2
}
