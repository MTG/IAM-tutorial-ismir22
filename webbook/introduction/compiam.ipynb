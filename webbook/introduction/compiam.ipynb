{
 "cells": [
  {
   "cell_type": "markdown",
   "metadata": {},
   "source": [
    "(compiam)=\n",
    "# compIAM package\n",
    "\n",
    "This tutorial built around the compIAM package (**comp**utational analysis of **I**ndian **A**rt **M**usic, and programatically stylized as `compiam`), which is a collaborative initiative involving many researchers that aims to put together a common repository of datasets, tools, and models for the computational analysis of Carnatic and Hindustani music. \n",
    "\n",
    "\n",
    "## Motivation\n",
    "\n",
    "Tons of very interesting and useful works have been carried out within the topic of computational analysis of Carnatic and Hindustani Music. However, it is common to come across, in such research contexts, difficulties and problems in finding or reproducing the published research.\n",
    "\n",
    "`compiam` aims to be a common and community-driven repository including Python-based and standardized implementations of research works for the computational analysis of IAM. In addition, `compiam` includes tools to easily access relevant datasets and corpora.\n",
    "\n",
    "```{note}\n",
    "`compiam` is very open to contributions! To integrate your works or relevant implementations from other researchers please check out the [contributing guidelines](https://mtg.github.io/compIAM/source/contributing.html).\n",
    "```\n",
    "\n",
    "(compiam-installation)=\n",
    "## Installation\n",
    "\n",
    "`compiam` is registered to PyPI, therefore the latest release can be installed with:\n",
    "\n",
    "```bash\n",
    "pip install compiam\n",
    "```\n",
    "\n",
    "Nonetheless, to get the latest version of the library with the fresher updates, proceed as follows:\n",
    "```bash\n",
    "git clone https://github.com/MTG/compIAM.git\n",
    "cd compIAM\n",
    "\n",
    "virtualenv -p python3 compiam_env\n",
    "source compiam_env/bin/activate\n",
    "\n",
    "pip install -e .\n",
    "pip install -r requirements.txt\n",
    "```"
   ]
  },
  {
   "cell_type": "markdown",
   "metadata": {},
   "source": [
    "(compiam-components)=\n",
    "## Available components\n",
    "\n",
    "`compiam` includes the following components:\n",
    "\n",
    "| **What to load?**     | **Description**                                                         |\n",
    "|-----------------------|-------------------------------------------------------------------------|\n",
    "| Datasets              | Initializing dataset loaders through mirdata ([see Datasets](datasets)) |\n",
    "| Corpora (Dunya)       | Accessing the Dunya corpora ([see Corpora](corpora))                    |\n",
    "| Tools and models      | Initializing tools and non-pre-trained ML and DL models                 |\n",
    "| Pre-trained DL models | Initializing pre-trained models                                         |\n",
    "\n",
    "\n",
    "(compiam-usage)=\n",
    "## Basic usage\n",
    "\n",
    "`compiam` does not have terminal functionalities but it is to be used within Python based-projects. First, import the library to your Python project with:"
   ]
  },
  {
   "cell_type": "code",
   "execution_count": null,
   "metadata": {},
   "outputs": [],
   "source": [
    "## Importing compiam to the project\n",
    "import compiam"
   ]
  },
  {
   "cell_type": "markdown",
   "metadata": {},
   "source": [
    "We will import some additional util packages for improved user experience along the tutorial."
   ]
  },
  {
   "cell_type": "code",
   "execution_count": null,
   "metadata": {},
   "outputs": [],
   "source": [
    "import os\n",
    "\n",
    "import numpy as np\n",
    "import IPython.display as ipd\n",
    "\n",
    "from pprint import pprint\n",
    "\n",
    "import warnings\n",
    "warnings.filterwarnings('ignore')"
   ]
  },
  {
   "cell_type": "markdown",
   "metadata": {},
   "source": [
    "### Importing the integrated tools\n",
    "\n",
    "The integrated tools and models are organized by:\n",
    "\n",
    "* First, the following fundamental musical aspects: **melody**, **rhythm**, **structure**, and **timbre**. \n",
    "* Within each of the musical aspect, the tools then are grouped by task.\n",
    "\n",
    "\n",
    "Print out the available tasks for each category."
   ]
  },
  {
   "cell_type": "code",
   "execution_count": null,
   "metadata": {},
   "outputs": [],
   "source": [
    "pprint(compiam.melody.list_tasks())"
   ]
  },
  {
   "cell_type": "markdown",
   "metadata": {},
   "source": [
    "You may also print out the available tools for a musical aspect."
   ]
  },
  {
   "cell_type": "code",
   "execution_count": null,
   "metadata": {},
   "outputs": [],
   "source": [
    "pprint(compiam.melody.list_tools())"
   ]
  },
  {
   "cell_type": "markdown",
   "metadata": {},
   "source": [
    "Finally, you may be only interested on listing only the tools for a particular task."
   ]
  },
  {
   "cell_type": "code",
   "execution_count": null,
   "metadata": {},
   "outputs": [],
   "source": [
    "pprint(compiam.rhythm.transcription.list_tools())"
   ]
  },
  {
   "cell_type": "markdown",
   "metadata": {},
   "source": [
    "**Right, we have now learned how to list the available tools in `compiam`**. Initializing and using the integrated works in `compiam` can be done by basically importing these from the respective module. Use that to load *non-trainable* tools and *non-trained* machine or deep learning (ML/DL) models.\n",
    "\n",
    "```python\n",
    "from compiam.melody.tonic_identification import TonicIndianMultiPitch\n",
    "from compiam.rhythm.meter import AksharaPulseTracker\n",
    "```\n",
    "\n",
    "Each tool includes specific methods and attributes, so make sure to carefully check the [``compiam`` documentation](https://mtg.github.io/compIAM/index.html) before using a particular tool. However, integrated tools all include a ``.extract()`` (for *heuristic-based* tools) or a ``.predict()`` (for *data-driven* tools) to directly run the tool on any input audio.\n",
    "\n",
    "(compiam-wrappers)=\n",
    "### Wrappers\n",
    "`compiam` also includes wrappers to easily initialize relevant datasets, corpora, and also pre-trained models for particular problems.\n",
    "\n",
    "| **Wrapper**                 | **Description**                    | **Option list**                       |\n",
    "|-----------------------------|------------------------------------|---------------------------------------|\n",
    "| ``compiam.load_dataset()``  | Initializing dataset loaders       | Run ``compiam.list_datasets()``       |\n",
    "| ``compiam.load_corpora()``  | Accessing the Dunya corpora        | Run ``compiam.list_corpora()``        |\n",
    "| ``compiam.load_model()``    | Initializing pre-trained models    | Run ``compiam.list_models()``         |\n",
    "\n",
    "#### Why wrappers?\n",
    "\n",
    "Wrappers can be directly imported from `compiam`, and serve as a fast and standardized manner to access the data and pre-trained models in `compiam`. Let us showcase the nice utility of the `compiam` wrappers. "
   ]
  },
  {
   "cell_type": "code",
   "execution_count": null,
   "metadata": {},
   "outputs": [],
   "source": [
    "from compiam import load_dataset, load_corpora, load_model"
   ]
  },
  {
   "cell_type": "markdown",
   "metadata": {},
   "source": [
    "\n",
    "##### The ``.load_dataset()`` wrapper\n",
    "We will start by listing the available datasets through `compiam` using the ``.load_datasets()`` method which is implemented in the core of `compiam`."
   ]
  },
  {
   "cell_type": "code",
   "execution_count": null,
   "metadata": {},
   "outputs": [],
   "source": [
    "pprint(compiam.list_datasets())"
   ]
  },
  {
   "cell_type": "markdown",
   "metadata": {},
   "source": [
    "The ``compiam.load_dataset()`` wrapper allows the user to initialize the dataloader for any dataset included in the list displayed above. Let's take a look at an example."
   ]
  },
  {
   "cell_type": "code",
   "execution_count": null,
   "metadata": {},
   "outputs": [],
   "source": [
    "## Initializing dataloader for an example dataset\n",
    "saraga_carnatic = load_dataset(\"saraga_carnatic\")\n",
    "saraga_carnatic"
   ]
  },
  {
   "cell_type": "markdown",
   "metadata": {},
   "source": [
    "Dataset loaders provide a vast amount of advantages and introducing these into our research pipelines may be very beneficial. `compiam` relies on [`mirdata`](https://github.com/mir-dataset-loaders/mirdata), a Python library focused on common dataloader for MIR datasets. So bear in mind that when loading a particular dataset using ``compiam.load_dataset()``, we are basically initializing a `mirdata` dataloader. To get a more insightful walkthrough of the dataset loaders and how these work, please [see Datasets](datasets), and make sure to check out and star [`mirdata`](https://github.com/mir-dataset-loaders/mirdata).\n",
    "\n",
    "##### The ``.load_corpora()`` wrapper\n",
    "\n",
    "`compiam` provides access to both Carnatic and Hindustani {cite}`iam_corpora` corpora from Dunya. Initialize the access tool to these huge collections of data using the designated wrapper.\n",
    "```python\n",
    "## Initializing dataloader for an example dataset\n",
    "carnatic_corpora = load_corpora(\"carnatic\", cc=True, token=\"your-token-goes-here\")\n",
    "```\n",
    "\n",
    "```{warning}\n",
    "A complete walkthrough of the corpora access in this book is not possible because of the explicit need of a unique, personal, and intransferible access token. Please get your token and check the [detailed documentation](https://mtg.github.io/compIAM/source/datasets.html#access-the-dunya-corpora) we have put together. Feel free to reach out in case you encouter issues or questions.\n",
    "```\n",
    "\n",
    "##### The ``.load_model()`` wrapper\n",
    "\n",
    "For the case of ML/DL models that are data-driven and therefore trained using particular collections of data, we may use the ``compiam.load_model()`` wrapper to load the tool as you would do using ``from compiam.<musical-aspect>.<task> import <particular-model>``. However, **loading the model using the wrapper will load by default the pre-trained model given publicly available weights and checkpoints for the integrated implementation**. \n",
    "\n",
    "```{tip}\n",
    "When listing available tools using the ``list_tools()`` functions, some will appear with a ``*`` at the end. That is meant to indicate that such tools have pre-trained models available, which may be loaded using the wrapper ``compiam.load_model()``.\n",
    "```\n",
    "\n",
    "You may obviously initialize the *untrained* version of the model and load the weights afterwards, especially if you have your own checkpoints or seek to train the model yourself. However, the ``compiam.load_model()`` wrappers offers a handy and rapid way to load a pre-trained model for a particular task. The weights for the integrated models are stored (and included in the release of `compiam`) in ``compiam/models/<musical-aspect>/<model-name>/`` (writing the path UNIX-styled here!).\n",
    "\n",
    "```{important}\n",
    "**Only the ML and DL-based models with available weights can be loaded using the ``.load_model()`` wrapper.** The non-trainable tools or the models with no available weights must be imported from their corresponding module.  \n",
    "```\n",
    "\n",
    "Let's list the available pre-trained ML/DL models through `compiam`."
   ]
  },
  {
   "cell_type": "code",
   "execution_count": null,
   "metadata": {},
   "outputs": [],
   "source": [
    "pprint(compiam.list_models())"
   ]
  },
  {
   "cell_type": "markdown",
   "metadata": {},
   "source": [
    "This list includes all the models in ``compiam`` that can be loaded using a set of publicly available weights. Let's now run a snippet to show how fast we can expriment through the use of the wrappers in `compiam`."
   ]
  },
  {
   "cell_type": "code",
   "execution_count": null,
   "metadata": {
    "tags": [
     "remove-output"
    ]
   },
   "outputs": [],
   "source": [
    "%pip install tensorflow==2.9.3"
   ]
  },
  {
   "cell_type": "markdown",
   "metadata": {},
   "source": [
    "```{note}\n",
    "Some tools require specific dependencies that are not installed by default. These dependencies are specified in the [online `compiam` documentation](https://mtg.github.io/compIAM/). In addition, if a tool is loaded and a dependency is missing, an error message will be thrown requesting the user to install the missing package.\n",
    "```"
   ]
  },
  {
   "cell_type": "code",
   "execution_count": null,
   "metadata": {
    "tags": [
     "remove-output"
    ]
   },
   "outputs": [],
   "source": [
    "# Loading pre-trained model for prediction\n",
    "ftanet_carnatic = load_model(\"melody:ftanet-carnatic\")\n",
    "\n",
    "saraga_carnatic = load_dataset(\n",
    "    \"saraga_carnatic\",\n",
    "    data_home=os.path.join(\"..\", \"audio\", \"mir_datasets\"),\n",
    ")"
   ]
  },
  {
   "cell_type": "markdown",
   "metadata": {},
   "source": [
    "These methods in the following cell download the dataser for you, and make sure no files are missing or have been corrupted during the downloading/unzipping process."
   ]
  },
  {
   "cell_type": "code",
   "execution_count": null,
   "metadata": {},
   "outputs": [],
   "source": [
    "#saraga_carnatic.download()\n",
    "#saraga_carnatic.validate()"
   ]
  },
  {
   "cell_type": "markdown",
   "metadata": {},
   "source": [
    "```{note}\n",
    "Saraga Carnatic is about 24GB of data and therefore we will not download it within the context of this tutorial.\n",
    "```\n",
    "An audio example from the dataset has been selected for tutoring purposes: \"Sri Raghuvara Sugunaalaya\" performed by Sanjay Subrahmanyan. The ``id`` of this track in the Saraga Carnatic dataloader is ``\"109_Sri_Raghuvara_Sugunaalaya\"``."
   ]
  },
  {
   "cell_type": "code",
   "execution_count": null,
   "metadata": {
    "tags": [
     "remove-output"
    ]
   },
   "outputs": [],
   "source": [
    "# Getting audio from random track in the dataset\n",
    "saraga_tracks = saraga_carnatic.load_tracks()\n",
    "our_track = saraga_tracks[\"109_Sri_Raghuvara_Sugunaalaya\"]\n",
    "\n",
    "# Predict!\n",
    "predicted_pitch = ftanet_carnatic.predict(our_track.audio_path)"
   ]
  },
  {
   "cell_type": "markdown",
   "metadata": {},
   "source": [
    "\n",
    "### Util functions\n",
    "`compiam` also includes visualisation and general util functions to assist the comprehensive computational study of musical repertoires and issue quite a number of operations that are useful for the said research field. Check the [visualisation documentation](https://mtg.github.io/compIAM/source/visualisation.html) and the [utils documentation](https://mtg.github.io/compIAM/source/utils.html) out for a detailed presentation of the available tools.\n",
    "\n",
    "We will now use the ``.plot_pitch()`` method which allows us to plot the pitch curve we have just extracted from the audio example."
   ]
  },
  {
   "cell_type": "code",
   "execution_count": null,
   "metadata": {},
   "outputs": [],
   "source": [
    "from compiam.visualisation.pitch import plot_pitch\n",
    "\n",
    "# Plotting waveform\n",
    "plot_pitch(\n",
    "    pitch=predicted_pitch[:, 1],\n",
    "    times=predicted_pitch[:, 0],\n",
    ");\n",
    "\n",
    "# Playing 10 seconds of audio used for prediction\n",
    "audio, sr = our_track.audio\n",
    "audio_short = audio[:10*sr]\n",
    "ipd.Audio(\n",
    "    data=audio_short,\n",
    "    rate=sr\n",
    ") "
   ]
  },
  {
   "cell_type": "markdown",
   "metadata": {},
   "source": [
    "## The extent of `compiam`\n",
    "In the very first launch of `compiam` (v0.1.0), the package includes access to 8 datasets, access to the Carnatic and the Hindustani corpora in Dunya, and a bit more that 10 tools and models to use, covering 8 different tasks. We are aware, *and we are very interested in bringing that into the open*, that the topic of the computational analysis of Indian Art Music, especially on the tools and models side, **is way broader**. The literature includes a vast amount of very interesting and relevant works that, mainly because of the time constraint, are not included in the first release of `compiam`.\n",
    "\n",
    "However, we have been designing `compiam` so that it evolves as a community-driven initiative, in which anyone can integrate datasts, tools, and models for the computational analysis of Indian Art Music. \n",
    "\n",
    "Therefore, this tutorial is also a great chance to present the official launch of `compiam`, and engage researchers and developers interested in the research topic of computational analysis of Carnatic and Hindustani music to contribute to this library. The ultimate goal of this software is that the relevant collections of data and versatile tools for this topic are made available an easy accessible for everyone, while boosting the visibility and community usage of these."
   ]
  },
  {
   "cell_type": "markdown",
   "metadata": {},
   "source": [
    "(compiam-contributing)=\n",
    "## Contributing\n",
    "`compiam` is continuously evolving and **it is very much open to contributions!** We have put together [complete set of contribution guidelines](https://mtg.github.io/compIAM/source/contributing.html) to help you improving and/or expanding the library. Potential contributions are:\n",
    "* Adding new implementations of tools or models.\n",
    "* Adding new datasets by first adding a dataloader to `mirdata` ([see Datasets](datasets)) and then link it to `compiam` (we do have `mirdata` maintainers in the team therefore close help should be given).\n",
    "* Fix, improve, update, or expand existing implementations.\n",
    "* Fixing bugs.\n",
    "* Improving documentation.\n",
    "\n",
    "Don't hestitate to [reach out](mailto:genis.plaja@upf.edu) or [open an issue in the `compaim` GitHub repository](https://github.com/MTG/compIAM/issues) to request for further help or raise questions.\n",
    "\n",
    "\n"
   ]
  }
 ],
 "metadata": {
  "kernelspec": {
   "display_name": "Python 3.9.4 64-bit",
   "language": "python",
   "name": "python3"
  },
  "language_info": {
   "name": "python",
   "version": "3.9.4 (default, Apr  5 2021, 01:49:30) \n[Clang 12.0.0 (clang-1200.0.32.29)]"
  },
  "orig_nbformat": 4,
  "vscode": {
   "interpreter": {
    "hash": "aee8b7b246df8f9039afb4144a1f6fd8d2ca17a180786b69acc140d282b71a49"
   }
  }
 },
 "nbformat": 4,
 "nbformat_minor": 2
}
