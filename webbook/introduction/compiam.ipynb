{
 "cells": [
  {
   "cell_type": "markdown",
   "metadata": {},
   "source": [
    "(compiam)=\n",
    "# compIAM package\n",
    "\n",
    "This tutorial wrapps up around compIAM (**comp**utational analysis of **I**ndian **A**rt **M**usic, and programatically stylized as `compiam`), which is a collaborative initiative involving many researchers that aims at putting together a common repository of datasets, tools, and models for the computational analysis of Carnatic and Hindustani music. \n",
    "\n",
    "\n",
    "## Motivation\n",
    "\n",
    "Tons of very interesting and useful works have been carried out within the topic of computational analysis of Carnatic and Hindustani Music. However, it is common to come across, in such research context, difficulties and problems on finding or reproducing the published research.\n",
    "\n",
    "`compiam` aims at being a common and community-driven repository to include Python-based and standardized implementations of research works for the computational analysis of IAM. In addition to that, `compiam` includes tools to easily access relevant datasets and corpora.\n",
    "\n",
    "```{note}\n",
    "`compiam` is very open to contributions! To integrate your works or relevant implementations from other researchers please check out the [contributing guidelines](https://mtg.github.io/compIAM/source/contributing.html).\n",
    "```\n",
    "\n",
    "(compiam-installation)=\n",
    "## Installation\n",
    "\n",
    "`compiam` is registered to PyPI, therefore the latest release can be installed with:\n",
    "\n",
    "```bash\n",
    "pip install compiam\n",
    "```\n",
    "\n",
    "Nonetheless, to get the latest version of the library with the fresher updates, proceed as follows:\n",
    "```bash\n",
    "git clone https://github.com/MTG/compIAM.git\n",
    "cd compIAM\n",
    "\n",
    "virtualenv -p python3 compiam_env\n",
    "source compiam_env/bin/activate\n",
    "\n",
    "pip install -e .\n",
    "pip install -r requirements.txt\n",
    "```"
   ]
  },
  {
   "cell_type": "markdown",
   "metadata": {},
   "source": [
    "(compiam-components)=\n",
    "## Available components\n",
    "\n",
    "`compiam` includes the following components:\n",
    "\n",
    "| **What to load?**     | **Description**                                                         |\n",
    "|-----------------------|-------------------------------------------------------------------------|\n",
    "| Datasets              | Initializing dataset loaders through mirdata ([see Datasets](datasets)) |\n",
    "| Corpora (Dunya)       | Accessing the Dunya corpora ([see Corpora](corpora))                    |\n",
    "| Tools and models      | Initializing tools and non-pre-trained ML and DL models                 |\n",
    "| Pre-trained DL models | Initializing pre-trained models                                         |\n",
    "\n",
    "\n",
    "(compiam-usage)=\n",
    "## Basic usage\n",
    "\n",
    "`compiam` does not have terminal functionalities but it is to be used within Python based-projects. First, import the library to your Python project with:"
   ]
  },
  {
   "cell_type": "code",
   "execution_count": null,
   "metadata": {},
   "outputs": [],
   "source": [
    "## Importing compiam to the project\n",
    "import compiam"
   ]
  },
  {
   "cell_type": "markdown",
   "metadata": {},
   "source": [
    "We will import some additional util packages for improved user experience along the tutorial."
   ]
  },
  {
   "cell_type": "code",
   "execution_count": null,
   "metadata": {},
   "outputs": [],
   "source": [
    "import os\n",
    "from pprint import pprint\n",
    "\n",
    "import warnings\n",
    "warnings.filterwarnings('ignore')"
   ]
  },
  {
   "cell_type": "markdown",
   "metadata": {},
   "source": [
    "### Importing the integrated tools\n",
    "\n",
    "The integrated tools and models are organized by:\n",
    "\n",
    "* First, the following fundamental musical aspects: **melody**, **rhythm**, **structure**, and **timbre**. \n",
    "* Within each of the musical aspect, the tools then are grouped by task.\n",
    "\n",
    "\n",
    "Print out the available tasks for each category."
   ]
  },
  {
   "cell_type": "code",
   "execution_count": null,
   "metadata": {},
   "outputs": [],
   "source": [
    "pprint(compiam.melody.list_tasks())"
   ]
  },
  {
   "cell_type": "markdown",
   "metadata": {},
   "source": [
    "You may also print out the available tools for a musical aspect."
   ]
  },
  {
   "cell_type": "code",
   "execution_count": null,
   "metadata": {},
   "outputs": [],
   "source": [
    "pprint(compiam.melody.list_tools())"
   ]
  },
  {
   "cell_type": "markdown",
   "metadata": {},
   "source": [
    "Finally, you may be only interested on listing only the tools for a particular task."
   ]
  },
  {
   "cell_type": "code",
   "execution_count": null,
   "metadata": {},
   "outputs": [],
   "source": [
    "pprint(compiam.rhythm.transcription.list_tools())"
   ]
  },
  {
   "cell_type": "markdown",
   "metadata": {},
   "source": [
    "**Right, we have now learned how to list the available tools in `compiam`**. Initializing and using the integrated works in `compiam` can be done by basically importing these from the respective module. Use that to load *non-trainable* tools and *non-trained* machine or deep learning (ML/DL) models.\n",
    "\n",
    "```python\n",
    "from compiam.melody.tonic_identification import TonicIndianMultiPitch\n",
    "from compiam.rhythm.transcription import FourWayTabla\n",
    "```\n",
    "\n",
    "Each tool includes specific methods and attributes, so make sure to carefully check the [``compiam`` documentation](https://mtg.github.io/compIAM/index.html) before using a particular tool. However, integrated tools all include a ``.extract()`` (for *heuristic-based* tools) or a ``.predict()`` (for *data-driven* tools) to directly run the tool on any input audio.\n",
    "\n",
    "(compiam-wrappers)=\n",
    "### Wrappers\n",
    "`compiam` also includes wrappers to easily initialize relevant datasets, corpora, and also pre-trained models for particular problems.\n",
    "\n",
    "| **Wrapper**                 | **Description**                    | **Option list**                       |\n",
    "|-----------------------------|------------------------------------|---------------------------------------|\n",
    "| ``compiam.load_dataset()``  | Initializing dataset loaders       | Run ``compiam.list_datasets()``       |\n",
    "| ``compiam.load_corpora()``  | Accessing the Dunya corpora        | Run ``compiam.list_corpora()``        |\n",
    "| ``compiam.load_model()``    | Initializing pre-trained models    | Run ``compiam.list_models()``         |\n",
    "\n",
    "#### Why wrappers?\n",
    "\n",
    "Wrappers can be directly imported from `compiam`, and serve as a fast and standardized manner to access the data and pre-trained models in `compiam`.\n",
    "\n",
    "```{note}\n",
    "**Only the ML and DL-based models with available weights can be loaded using the ``.load_model()`` wrapper.** The non-trainable tools or the models with no available weights must be imported from their corresponding module.  \n",
    "```\n",
    "\n",
    "Let us showcase the nice utility of `compiam` wrappers. "
   ]
  },
  {
   "cell_type": "code",
   "execution_count": null,
   "metadata": {},
   "outputs": [],
   "source": [
    "from compiam import load_dataset, load_corpora, load_model"
   ]
  },
  {
   "cell_type": "markdown",
   "metadata": {},
   "source": [
    "\n",
    "##### The ``.load_dataset()`` wrapper\n",
    "We will start by listing the available datasets through `compiam`."
   ]
  },
  {
   "cell_type": "code",
   "execution_count": null,
   "metadata": {},
   "outputs": [],
   "source": [
    "pprint(compiam.list_datasets())"
   ]
  },
  {
   "cell_type": "markdown",
   "metadata": {},
   "source": [
    "The ``compiam.load_dataset()`` wrapper allows the user to initialize the dataloader for any dataset included in the list displayed above."
   ]
  },
  {
   "cell_type": "code",
   "execution_count": null,
   "metadata": {},
   "outputs": [],
   "source": [
    "## Initializing dataloader for an example dataset\n",
    "fw_tabla_dataset = load_dataset(\"four_way_tabla\")\n",
    "fw_tabla_dataset"
   ]
  },
  {
   "cell_type": "markdown",
   "metadata": {},
   "source": [
    "```{note}\n",
    "To get a more insightful walkthrough of the dataset loaders, please [see Datasets](datasets).\n",
    "```\n",
    "\n",
    "##### The ``.load_corpora()`` wrapper\n",
    "\n",
    "`compiam` provides access to both Carnatic and Hindustani {cite}`iam_corpora` corpora from Dunya. Initialize the access tool to these huge collections of data using the designated wrapper.\n",
    "```python\n",
    "## Initializing dataloader for an example dataset\n",
    "carnatic_corpora = load_corpora(\"carnatic\", cc=True, token=\"your-token-goes-here\")\n",
    "```\n",
    "\n",
    "```{warning}\n",
    "A complete walkthrough of the corpora access in this book is not possible because of the explicit need of a unique, personal, and intransferible access token. Please get your token and check the [detailed documentation](https://mtg.github.io/compIAM/source/datasets.html#access-the-dunya-corpora) we have put together. Feel free to reach out in case you encouter issues or questions.\n",
    "```\n",
    "\n",
    "##### The ``.load_model()`` wrapper\n",
    "\n",
    "For the case of ML/DL models that are data-driven and therefore trained using particular collections of data, we may use the ``compiam.load_model()`` wrapper to load the tool as you would do using ``from compiam.<musical-aspect>.<task> import <particular-model>``. However, **loading the model using the wrapper will load by default the pre-trained model given publicly available weights and checkpoints for the integrated implementation**. \n",
    "\n",
    "```{tip}\n",
    "When listing available tools using the ``list_tools()`` functions, some will appear with a ``*`` at the end. That is meant to indicate that such tools have pre-trained models available, which may be loaded using the wrapper ``compiam.load_model()``.\n",
    "```\n",
    "\n",
    "You may obviously initialize the *untrained* version of the model and load the weights afterwards, especially if you have your own checkpoints or seek to train the model yourself. However, the ``compiam.load_model()`` wrappers offers a handy and rapid way to load a pre-trained model for a particular task. The weights for the integrated models are stored (and included in the release of `compiam`) in ``compiam/models/<musical-aspect>/<model-name>/`` (writing the path UNIX-styled here!).\n",
    "\n",
    "Let's list the available pre-trained ML/DL models through `compiam`."
   ]
  },
  {
   "cell_type": "code",
   "execution_count": null,
   "metadata": {},
   "outputs": [],
   "source": [
    "pprint(compiam.list_models())"
   ]
  },
  {
   "cell_type": "markdown",
   "metadata": {},
   "source": [
    "This list includes all the models in ``compiam`` that can be loaded using a set of publicly available weights. Let's now run a snippet to show how fast we can expriment through the use of the wrappers in `compiam`."
   ]
  },
  {
   "cell_type": "code",
   "execution_count": null,
   "metadata": {
    "tags": [
     "remove-output"
    ]
   },
   "outputs": [],
   "source": [
    "%pip install torch==1.8.0"
   ]
  },
  {
   "cell_type": "markdown",
   "metadata": {},
   "source": [
    "```{note}\n",
    "Some tools require specific dependencies that are not installed by default. These dependencies are specified in the [online `compiam` documentation](https://mtg.github.io/compIAM/). In addition, if a tool is loaded and a dependency is missing, an error message will be thrown requesting the user to install the missing package.\n",
    "```"
   ]
  },
  {
   "cell_type": "code",
   "execution_count": null,
   "metadata": {
    "tags": [
     "remove-output"
    ]
   },
   "outputs": [],
   "source": [
    "# Loading pre-trained four-way tabla model\n",
    "trained_four_way = load_model(\"rhythm:4way-tabla\")\n",
    "\n",
    "tabla_dataset = load_dataset(\n",
    "    \"four_way_tabla\",\n",
    "    data_home=os.path.join(\"..\", \"audio\", \"mir_datasets\"),\n",
    ")\n",
    "tabla_dataset.download()\n",
    "tabla_dataset.validate()"
   ]
  },
  {
   "cell_type": "code",
   "execution_count": null,
   "metadata": {},
   "outputs": [],
   "source": [
    "# Getting audio from random track in the dataset\n",
    "random_track = tabla_dataset.choice_track()\n",
    "\n",
    "# Predict!\n",
    "onsets, strokes = trained_four_way.predict(random_track.audio_path)\n",
    "\n",
    "# Let's print out the first 10 automatically transcribed strokes\n",
    "for onset, stroke in zip(onsets[:10], strokes[:10]):\n",
    "    print(\"Stroke {} in time-step {}\".\\\n",
    "        format(stroke, onset))"
   ]
  },
  {
   "cell_type": "markdown",
   "metadata": {},
   "source": [
    "\n",
    "### Util functions\n",
    "`compiam` also includes visualisation and general util functions to assist the comprehensive computational study of musical repertoires and issue quite a number of operations that are useful for the said topic. Check the [visualisation documentation](https://mtg.github.io/compIAM/source/visualisation.html) and the [utils documentation](https://mtg.github.io/compIAM/source/utils.html) out for a detailed presentation of the available tools.\n",
    "\n",
    "We will now use the ``.plot_waveform()`` method which allows us to plot a waveform with particular annotations. "
   ]
  },
  {
   "cell_type": "code",
   "execution_count": null,
   "metadata": {},
   "outputs": [],
   "source": [
    "from compiam.visualisation.audio import plot_waveform\n",
    "plot_waveform(\n",
    "    path_to_audio=random_track.audio_path,  # input audio path\n",
    "    t1=0,  # start time for plot\n",
    "    t2=10,  # end time for plot\n",
    "    labels={x: y for x, y in zip(onsets, strokes)},  # annotations in a dict\n",
    ")"
   ]
  },
  {
   "cell_type": "markdown",
   "metadata": {},
   "source": [
    "## The extent of `compiam`\n",
    "In the very first launch of `compiam`, the package includes access to 7 datasets, access to the Carnatic and the Hindustani corpora in Dunya, and a bit more that 10 tools and models to use, covering 8 different tasks. We are aware, *and we are very interested in bringing that into the open*, that the topic of the computational analysis of Indian Art Music, especially on the tools and models side, **is way broader**. The literature includes a vast amount of very interesting and relevant works that, mainly because of the time constraint, are not included in the first release of `compiam`.\n",
    "\n",
    "However, we have been designing `compiam` so that it evolves as a community-driven initiative, in which anyone can integrate datasts, tools, and models for the computational analysis of Indian Art Music. \n",
    "\n",
    "Therefore, this tutorial is also a great chance to present the official launch of `compiam`, and engage researchers and developers interested in the research topic of computational analysis of Carnatic and Hindustani music to contribute to this library. The ultimate goal of this software is that the relevant collections of data and versatile tools for this topic are made available an easy accessible for everyone, while boosting the visibility and community usage of these."
   ]
  },
  {
   "cell_type": "markdown",
   "metadata": {},
   "source": [
    "(compiam-contributing)=\n",
    "## Contributing\n",
    "`compiam` is continuously evolving and **it is very much open to contributions!** We have put together [complete set of contribution guidelines](https://mtg.github.io/compIAM/source/contributing.html) to help you improving and/or expanding the library. Potential contributions are:\n",
    "* Adding new implementations of tools or models.\n",
    "* Adding new datasets by first adding a dataloader to `mirdata` ([see Datasets](datasets)) and then link it to `compiam` (we do have `mirdata` maintainers in the team therefore close help should be given).\n",
    "* Fix, improve, update, or expand existing implementations.\n",
    "* Fixing bugs.\n",
    "* Improving documentation.\n",
    "\n",
    "Don't hestitate to [reach out](mailto:thomas.nuttall@upf.edu) or [open an issue in the `compaim` GitHub repository](https://github.com/MTG/compIAM/issues) to request for further help or raise questions.\n",
    "\n",
    "\n"
   ]
  }
 ],
 "metadata": {
  "kernelspec": {
   "display_name": "Python 3.9.4 64-bit",
   "language": "python",
   "name": "python3"
  },
  "language_info": {
   "name": "python",
   "version": "3.9.4"
  },
  "orig_nbformat": 4,
  "vscode": {
   "interpreter": {
    "hash": "aee8b7b246df8f9039afb4144a1f6fd8d2ca17a180786b69acc140d282b71a49"
   }
  }
 },
 "nbformat": 4,
 "nbformat_minor": 2
}
