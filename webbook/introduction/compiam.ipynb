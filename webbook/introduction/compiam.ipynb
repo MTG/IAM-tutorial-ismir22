{
 "cells": [
  {
   "cell_type": "markdown",
   "metadata": {},
   "source": [
    "(compiam)=\n",
    "# compIAM package\n",
    "\n",
    "This tutorial wrapps up around compIAM (**comp**utational analysis of **I**ndian **A**rt **M**usic, and programatically stylized as `compiam`), which is a collaborative initiative involving many researchers that aims at putting together a common repository of datasets, tools, and models for the computational analysis of Carnatic and Hindustani music. \n",
    "\n",
    "\n",
    "## Motivation\n",
    "\n",
    "Tons of very interesting and useful works have been carried out within the topic of computational analysis of Carnatic and Hindustani Music. However, it is common to come across, in such research context, difficulties and problems on finding or reproducing the published research.\n",
    "\n",
    "`compiam` aims at being a common and community-driven repository to include Python-based and standardized implementations of research works for the computational analysis of IAM. In addition to that, `compiam` includes tools to easily access relevant datasets and corpora.\n",
    "\n",
    "```{note}\n",
    "`compiam` is very open to contributions! To integrate your works or relevant implementations from other researchers please check out the [contributing guidelines](https://mtg.github.io/compIAM/source/contributing.html).\n",
    "```\n",
    "\n",
    "(compiam-installation)=\n",
    "## Installation\n",
    "\n",
    "`compiam` is registered to PyPI, therefore the latest release can be installed with:"
   ]
  },
  {
   "cell_type": "code",
   "execution_count": null,
   "metadata": {
    "tags": [
     "remove-output"
    ]
   },
   "outputs": [],
   "source": [
    "## Importing compiam to the project\n",
    "import compiam\n",
    "\n",
    "# Supress warnings to keep the tutorial clean\n",
    "import warnings\n",
    "warnings.filterwarnings('ignore')\n",
    "\n",
    "%%pprint # Let's also activate the pretty printing "
   ]
  },
  {
   "cell_type": "markdown",
   "metadata": {},
   "source": [
    "(compiam-components)=\n",
    "## Available components\n",
    "\n",
    "`compiam` includes the following components:\n",
    "\n",
    "| **What to load?**     | **Description**                                                         |\n",
    "|-----------------------|-------------------------------------------------------------------------|\n",
    "| Datasets              | Initializing dataset loaders through mirdata ([see Datasets](datasets)) |\n",
    "| Corpora (Dunya)       | Accessing the Dunya corpora ([see Corpora](corpora))                    |\n",
    "| Tools and models      | Initializing tools and non-pre-trained ML and DL models                 |\n",
    "| Pre-trained DL models | Initializing pre-trained models                                         |\n",
    "\n",
    "\n",
    "(compiam-usage)=\n",
    "## Basic usage\n",
    "\n",
    "`compiam` does not have terminal functionalities but it is to be used within Python based-projects. First, import the library to your Python project with: ``import compiam``.\n",
    "\n",
    "### Importing the integrated tools\n",
    "\n",
    "The integrated tools and models are organized by:\n",
    "\n",
    "* First, the following fundamental musical aspects: **melody**, **rhythm**, **structure**, and **timbre**. \n",
    "* Within each of the musical aspect, the tools then are grouped by task.\n",
    "\n",
    "\n",
    "```{tip}\n",
    "Print out the available tasks for each category: ``compiam.<musical-aspect>.list_tasks()``, and print out the available tools for each module using: ``compiam.<musical-aspect>.list_tools()``. You may also list only the tools for a particular task: ``compiam.<musical-aspect>.<task>.list_tools()``.\n",
    "```"
   ]
  },
  {
   "cell_type": "code",
   "execution_count": null,
   "metadata": {},
   "outputs": [],
   "source": [
    "print(\"Available melodic tools: {}\".format(compiam.melody.list_tools()))"
   ]
  },
  {
   "cell_type": "code",
   "execution_count": null,
   "metadata": {},
   "outputs": [],
   "source": [
    "print(\"Available rhythmic tools: {}\".format(compiam.rhythm.list_tools()))"
   ]
  },
  {
   "cell_type": "markdown",
   "metadata": {},
   "source": [
    "**Right, we got the integrated tools for melodic and rhythmic analysis.** Initializing and using the integrated works in `compiam` can be done by basically importing these from the respective module. Use that to load *non-trainable* tools and *non-trained* machine or deep learning (ML/DL) models.\n",
    "\n",
    "```python\n",
    "from compiam.melody.tonic_identification import TonicIndianMultiPitch\n",
    "from compiam.rhythm.transcription import FourWayTabla\n",
    "```\n",
    "\n",
    "Each tool includes specific methods and attributes, so make sure to carefully check the [``compiam`` documentation](https://mtg.github.io/compIAM/index.html) before using a particular tool. However, integrated tools all include a ``.extract()`` (for *heuristic-based* tools) or a ``.predict()`` (for *data-based* tools) to directly run the tool on sample audios.\n",
    "\n",
    "(compiam-wrappers)=\n",
    "### Wrappers\n",
    "`compiam` also includes wrappers to easily initialize relevant datasets, corpora, and also pre-trained models for particular problems.\n",
    "\n",
    "| **Wrapper**                 | **Description**                    | **Option list**                       |\n",
    "|-----------------------------|------------------------------------|---------------------------------------|\n",
    "| ``compiam.load_dataset()``  | Initializing dataset loaders       | Run ``compiam.list_datasets()``       |\n",
    "| ``compiam.load_corpora()``  | Accessing the Dunya corpora        | Run ``compiam.list_corpora()``        |\n",
    "| ``compiam.load_model()``    | Initializing pre-trained models    | Run ``compiam.list_models()``         |\n",
    "\n",
    "#### Why wrappers?"
   ]
  },
  {
   "cell_type": "code",
   "execution_count": null,
   "metadata": {},
   "outputs": [],
   "source": [
    "## Let us firts import the wrappers\n",
    "from compiam import load_dataset, load_corpora, load_model"
   ]
  },
  {
   "cell_type": "code",
   "execution_count": null,
   "metadata": {},
   "outputs": [],
   "source": [
    "## Getting a list of available datasets\n",
    "print(\"Available datasets through compiam are: {}\".format(compiam.list_datasets()))\n",
    "\n",
    "## Initializing dataloader for an example dataset\n",
    "fw_tabla_dataset = load_dataset(\"four_way_tabla\")\n",
    "fw_tabla_dataset"
   ]
  },
  {
   "cell_type": "markdown",
   "metadata": {},
   "source": [
    "```{note}\n",
    "To get a more insightful walkthrough of the dataset loaders, please [see Datasets](datasets).\n",
    "```\n",
    "\n",
    "`compiam` provides access to both Carnatic and Hindustani {cite}`iam_corpora` corpora from Dunya. Initialize the access tool to these huge collections of data using the designated wrapper.\n",
    "```python\n",
    "## Initializing dataloader for an example dataset\n",
    "carnatic_corpora = load_corpora(\"carnatic\", cc=True, token=\"your-token-goes-here\")\n",
    "```\n",
    "\n",
    "```{warning}\n",
    "A complete walkthrough of the corpora access in this book is not possible because of the explicit need of a unique, personal, and intransferible access token. Please get your token and check the [detailed documentation](https://mtg.github.io/compIAM/source/datasets.html#access-the-dunya-corpora) we have put together. Feel free to reach out in case you encouter issues or questions.\n",
    "```\n",
    "\n",
    "For the case of ML/DL models that are data-driven and therefore trained using particular collections of data, we may use the ``compiam.load_model()`` wrapper to load the tool as you would do using ``from compiam.<musical-aspect>.<task> import <particular-model>``. However, **loading the model using the wrapper will load by default the pre-trained model given publicly available weights and checkpoints for the integrated implementation**. \n",
    "\n",
    "```{tip}\n",
    "When listing available tools using the ``list_tools()`` functions, some will appear with a \"*\" at the end. That is meant to \n",
    "indicate that such tools have pre-trained models available, which may be loaded using the wrapper ``compiam.load_model()``.\n",
    "```\n",
    "\n",
    "You may obviously initialize the *untrained* version of the model and load the weights afterwards, especially if you have your own checkpoints or seek to train the model yourself. However, the ``compiam.load_model()`` wrappers offers a handy and rapid way to load a pre-trained model for a particular task. You may find the weights for the integrated models in ``compIAM/models/<musical-aspect>/<model-name>/``."
   ]
  },
  {
   "cell_type": "code",
   "execution_count": null,
   "metadata": {},
   "outputs": [],
   "source": [
    "## Getting a list of available pre-trained models\n",
    "print(\"Available pre-trained ML/DL models through compiam are {}\".format(compiam.list_models()))"
   ]
  },
  {
   "cell_type": "markdown",
   "metadata": {},
   "source": [
    "This list includes all the models in ``compiam`` that can be loaded using a set of publicly available weights. \n",
    "\n",
    "Let's now run a snippet to show how fast we can expriment through the use of the wrappers in `compiam`."
   ]
  },
  {
   "cell_type": "code",
   "execution_count": null,
   "metadata": {},
   "outputs": [],
   "source": [
    "# Loading pre-trained four-way tabla model and dataset\n",
    "trained_four_way = load_model(\"rhythm:4way-tabla\")\n",
    "tabla_dataset = load_dataset(\"four_way_tabla\")\n",
    "\n",
    "# Getting audio from random track in the dataset\n",
    "random_track = tabla_dataset.choice_track()\n",
    "audio = random_track.audio\n",
    "\n",
    "# Predict!\n",
    "trained_four_way.predict(audio)\n"
   ]
  },
  {
   "cell_type": "markdown",
   "metadata": {},
   "source": [
    "(compiam-contributing)=\n",
    "## Contributing\n",
    "`compiam` is continuously evolving and **it is very much open to contributions!** We have put together [complete set of contribution guidelines](https://mtg.github.io/compIAM/source/contributing.html) to help you improving and/or expanding the library. Potential contributions are:\n",
    "* Adding new implementations of tools or models.\n",
    "* Adding new datasets by first adding a dataloader to `mirdata` ([see Datasets](datasets)) and then link it to `compiam` (we do have `mirdata` maintainers in the team therefore close help should be given).\n",
    "* Fix, improve, update, or expand existing implementations.\n",
    "* Fixing bugs.\n",
    "* Improving documentation.\n",
    "\n",
    "Don't hestitate to [reach out](mailto:genis.plaja@upf.edu, thomas.nuttall@upf.edu) or [open an issue in the `compaim` GitHub repository](https://github.com/MTG/compIAM/issues) to request for further help or raise questions.\n",
    "\n",
    "\n"
   ]
  }
 ],
 "metadata": {
  "kernelspec": {
   "display_name": "Python 3.9.4 64-bit",
   "language": "python",
   "name": "python3"
  },
  "language_info": {
   "name": "python",
   "version": "3.9.4"
  },
  "orig_nbformat": 4,
  "vscode": {
   "interpreter": {
    "hash": "aee8b7b246df8f9039afb4144a1f6fd8d2ca17a180786b69acc140d282b71a49"
   }
  }
 },
 "nbformat": 4,
 "nbformat_minor": 2
}
